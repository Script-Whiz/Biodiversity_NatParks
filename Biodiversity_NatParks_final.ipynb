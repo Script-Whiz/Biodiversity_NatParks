{
 "cells": [
  {
   "cell_type": "markdown",
   "id": "84b44d61",
   "metadata": {},
   "source": [
    "# BIODIVERSITY IN NATIONAL PARKS #\n",
    "\n",
    "\n",
    "## Introduction ##\n",
    "\n",
    "This goal of this project is to analyze biodiversity data from the National Parks Service.\n",
    "\n",
    "This project will analyze data, and seek to find the main answer to: \n",
    "    \n",
    " -  How many species are there at the National Parks?\n",
    " -  What are the conservation statuses of the species?\n",
    " -  Are certain types of species more likely to be endangered?\n",
    "\n",
    "Data sources:\n",
    "Both Observations.csv and Species_info.csv was provided by Codecademy.com.\n",
    "Note: The data for this project is inspired by real data, but is mostly fictional.\n"
   ]
  },
  {
   "cell_type": "code",
   "execution_count": 98,
   "id": "13f5e5f7",
   "metadata": {},
   "outputs": [
    {
     "data": {
      "text/html": [
       "<img src=\"Yosemite.jpeg\" width=\"300\" height=\"300\"/>"
      ],
      "text/plain": [
       "<IPython.core.display.Image object>"
      ]
     },
     "execution_count": 98,
     "metadata": {},
     "output_type": "execute_result"
    }
   ],
   "source": [
    "Image(url=\"Yosemite.jpeg\", width=300, height=300) "
   ]
  },
  {
   "cell_type": "code",
   "execution_count": 1,
   "id": "3306a905",
   "metadata": {},
   "outputs": [],
   "source": [
    "## Import python modules ##"
   ]
  },
  {
   "cell_type": "code",
   "execution_count": 2,
   "id": "1ff36900",
   "metadata": {},
   "outputs": [],
   "source": [
    "import pandas as pd\n",
    "import numpy as np\n",
    "\n",
    "from matplotlib import pyplot as plt\n",
    "import seaborn as sns\n",
    "\n",
    "%matplotlib inline\n",
    "\n",
    "from scipy.stats import chi2_contingency\n",
    "from IPython.display import Image\n",
    "\n",
    "from itertools import chain\n",
    "import string"
   ]
  },
  {
   "cell_type": "markdown",
   "id": "a57e6ee7",
   "metadata": {},
   "source": [
    "## Load in data ##\n",
    "### There are 2 data files to load in. ###"
   ]
  },
  {
   "cell_type": "markdown",
   "id": "e2b2d738",
   "metadata": {},
   "source": [
    "### species data set ###"
   ]
  },
  {
   "cell_type": "code",
   "execution_count": 3,
   "id": "5972f724",
   "metadata": {},
   "outputs": [
    {
     "data": {
      "text/html": [
       "<div>\n",
       "<style scoped>\n",
       "    .dataframe tbody tr th:only-of-type {\n",
       "        vertical-align: middle;\n",
       "    }\n",
       "\n",
       "    .dataframe tbody tr th {\n",
       "        vertical-align: top;\n",
       "    }\n",
       "\n",
       "    .dataframe thead th {\n",
       "        text-align: right;\n",
       "    }\n",
       "</style>\n",
       "<table border=\"1\" class=\"dataframe\">\n",
       "  <thead>\n",
       "    <tr style=\"text-align: right;\">\n",
       "      <th></th>\n",
       "      <th>category</th>\n",
       "      <th>scientific_name</th>\n",
       "      <th>common_names</th>\n",
       "      <th>conservation_status</th>\n",
       "    </tr>\n",
       "  </thead>\n",
       "  <tbody>\n",
       "    <tr>\n",
       "      <th>0</th>\n",
       "      <td>Mammal</td>\n",
       "      <td>Clethrionomys gapperi gapperi</td>\n",
       "      <td>Gapper's Red-Backed Vole</td>\n",
       "      <td>NaN</td>\n",
       "    </tr>\n",
       "    <tr>\n",
       "      <th>1</th>\n",
       "      <td>Mammal</td>\n",
       "      <td>Bos bison</td>\n",
       "      <td>American Bison, Bison</td>\n",
       "      <td>NaN</td>\n",
       "    </tr>\n",
       "    <tr>\n",
       "      <th>2</th>\n",
       "      <td>Mammal</td>\n",
       "      <td>Bos taurus</td>\n",
       "      <td>Aurochs, Aurochs, Domestic Cattle (Feral), Dom...</td>\n",
       "      <td>NaN</td>\n",
       "    </tr>\n",
       "    <tr>\n",
       "      <th>3</th>\n",
       "      <td>Mammal</td>\n",
       "      <td>Ovis aries</td>\n",
       "      <td>Domestic Sheep, Mouflon, Red Sheep, Sheep (Feral)</td>\n",
       "      <td>NaN</td>\n",
       "    </tr>\n",
       "    <tr>\n",
       "      <th>4</th>\n",
       "      <td>Mammal</td>\n",
       "      <td>Cervus elaphus</td>\n",
       "      <td>Wapiti Or Elk</td>\n",
       "      <td>NaN</td>\n",
       "    </tr>\n",
       "  </tbody>\n",
       "</table>\n",
       "</div>"
      ],
      "text/plain": [
       "  category                scientific_name  \\\n",
       "0   Mammal  Clethrionomys gapperi gapperi   \n",
       "1   Mammal                      Bos bison   \n",
       "2   Mammal                     Bos taurus   \n",
       "3   Mammal                     Ovis aries   \n",
       "4   Mammal                 Cervus elaphus   \n",
       "\n",
       "                                        common_names conservation_status  \n",
       "0                           Gapper's Red-Backed Vole                 NaN  \n",
       "1                              American Bison, Bison                 NaN  \n",
       "2  Aurochs, Aurochs, Domestic Cattle (Feral), Dom...                 NaN  \n",
       "3  Domestic Sheep, Mouflon, Red Sheep, Sheep (Feral)                 NaN  \n",
       "4                                      Wapiti Or Elk                 NaN  "
      ]
     },
     "execution_count": 3,
     "metadata": {},
     "output_type": "execute_result"
    }
   ],
   "source": [
    "species = pd.read_csv('species_info.csv',encoding='utf-8')\n",
    "species.head()"
   ]
  },
  {
   "cell_type": "markdown",
   "id": "a09166dd",
   "metadata": {},
   "source": [
    "### observations data set ###"
   ]
  },
  {
   "cell_type": "code",
   "execution_count": 4,
   "id": "7570bda5",
   "metadata": {},
   "outputs": [
    {
     "data": {
      "text/html": [
       "<div>\n",
       "<style scoped>\n",
       "    .dataframe tbody tr th:only-of-type {\n",
       "        vertical-align: middle;\n",
       "    }\n",
       "\n",
       "    .dataframe tbody tr th {\n",
       "        vertical-align: top;\n",
       "    }\n",
       "\n",
       "    .dataframe thead th {\n",
       "        text-align: right;\n",
       "    }\n",
       "</style>\n",
       "<table border=\"1\" class=\"dataframe\">\n",
       "  <thead>\n",
       "    <tr style=\"text-align: right;\">\n",
       "      <th></th>\n",
       "      <th>scientific_name</th>\n",
       "      <th>park_name</th>\n",
       "      <th>observations</th>\n",
       "    </tr>\n",
       "  </thead>\n",
       "  <tbody>\n",
       "    <tr>\n",
       "      <th>0</th>\n",
       "      <td>Vicia benghalensis</td>\n",
       "      <td>Great Smoky Mountains National Park</td>\n",
       "      <td>68</td>\n",
       "    </tr>\n",
       "    <tr>\n",
       "      <th>1</th>\n",
       "      <td>Neovison vison</td>\n",
       "      <td>Great Smoky Mountains National Park</td>\n",
       "      <td>77</td>\n",
       "    </tr>\n",
       "    <tr>\n",
       "      <th>2</th>\n",
       "      <td>Prunus subcordata</td>\n",
       "      <td>Yosemite National Park</td>\n",
       "      <td>138</td>\n",
       "    </tr>\n",
       "    <tr>\n",
       "      <th>3</th>\n",
       "      <td>Abutilon theophrasti</td>\n",
       "      <td>Bryce National Park</td>\n",
       "      <td>84</td>\n",
       "    </tr>\n",
       "    <tr>\n",
       "      <th>4</th>\n",
       "      <td>Githopsis specularioides</td>\n",
       "      <td>Great Smoky Mountains National Park</td>\n",
       "      <td>85</td>\n",
       "    </tr>\n",
       "  </tbody>\n",
       "</table>\n",
       "</div>"
      ],
      "text/plain": [
       "            scientific_name                            park_name  observations\n",
       "0        Vicia benghalensis  Great Smoky Mountains National Park            68\n",
       "1            Neovison vison  Great Smoky Mountains National Park            77\n",
       "2         Prunus subcordata               Yosemite National Park           138\n",
       "3      Abutilon theophrasti                  Bryce National Park            84\n",
       "4  Githopsis specularioides  Great Smoky Mountains National Park            85"
      ]
     },
     "execution_count": 4,
     "metadata": {},
     "output_type": "execute_result"
    }
   ],
   "source": [
    "observations = pd.read_csv('observations.csv', encoding='utf-8')\n",
    "observations.head()"
   ]
  },
  {
   "cell_type": "markdown",
   "id": "e076cbab",
   "metadata": {},
   "source": [
    "## Scope the data sets. ##"
   ]
  },
  {
   "cell_type": "code",
   "execution_count": 5,
   "id": "b5793819",
   "metadata": {},
   "outputs": [
    {
     "name": "stdout",
     "output_type": "stream",
     "text": [
      "species shape: (5824, 4)\n",
      "observations shape: (23296, 3)\n"
     ]
    }
   ],
   "source": [
    "print(f\"species shape: {species.shape}\")\n",
    "print(f\"observations shape: {observations.shape}\")"
   ]
  },
  {
   "cell_type": "markdown",
   "id": "17003047",
   "metadata": {},
   "source": [
    "### There are 5,824 rows of data in the \"species\" data set, and 4 columns. ###\n",
    "### There are 23,296 rows of data in the \"observations\" data set, and 3 columns. ###"
   ]
  },
  {
   "cell_type": "code",
   "execution_count": 6,
   "id": "433dc2ef",
   "metadata": {},
   "outputs": [
    {
     "name": "stdout",
     "output_type": "stream",
     "text": [
      "Index(['category', 'scientific_name', 'common_names', 'conservation_status'], dtype='object')\n",
      "category               object\n",
      "scientific_name        object\n",
      "common_names           object\n",
      "conservation_status    object\n",
      "dtype: object\n"
     ]
    }
   ],
   "source": [
    "print(species.columns)\n",
    "print(species.dtypes)"
   ]
  },
  {
   "cell_type": "code",
   "execution_count": 7,
   "id": "780c368f",
   "metadata": {},
   "outputs": [
    {
     "name": "stdout",
     "output_type": "stream",
     "text": [
      "Index(['scientific_name', 'park_name', 'observations'], dtype='object')\n",
      "scientific_name    object\n",
      "park_name          object\n",
      "observations        int64\n",
      "dtype: object\n"
     ]
    }
   ],
   "source": [
    "print(observations.columns)\n",
    "print(observations.dtypes)"
   ]
  },
  {
   "cell_type": "markdown",
   "id": "8d9b64e8",
   "metadata": {},
   "source": [
    "### Convert the observations column(in the observations dataset) to integer."
   ]
  },
  {
   "cell_type": "code",
   "execution_count": 8,
   "id": "d5bb72e1",
   "metadata": {},
   "outputs": [
    {
     "name": "stdout",
     "output_type": "stream",
     "text": [
      "scientific_name    object\n",
      "park_name          object\n",
      "observations        int64\n",
      "dtype: object\n"
     ]
    }
   ],
   "source": [
    "observations[\"observations\"] = pd.to_numeric(observations['observations'])\n",
    "print(observations.dtypes)"
   ]
  },
  {
   "cell_type": "markdown",
   "id": "27be917c",
   "metadata": {},
   "source": [
    "### How many species are there in the National Parks? ###"
   ]
  },
  {
   "cell_type": "code",
   "execution_count": 9,
   "id": "2de96cf1",
   "metadata": {},
   "outputs": [
    {
     "name": "stdout",
     "output_type": "stream",
     "text": [
      "There are 5541 number of species in this dataset.\n",
      "\n"
     ]
    }
   ],
   "source": [
    "print(\"There are \" + str(species.scientific_name.nunique()) + \" number of species in this dataset.\" + '\\n')"
   ]
  },
  {
   "cell_type": "code",
   "execution_count": 10,
   "id": "f20a4632",
   "metadata": {},
   "outputs": [
    {
     "data": {
      "text/plain": [
       "scientific_name\n",
       "Abies bifolia                          4\n",
       "Abies concolor                         4\n",
       "Abies fraseri                          4\n",
       "Abietinella abietina                   4\n",
       "Abronia ammophila                      4\n",
       "                                      ..\n",
       "Zonotrichia leucophrys gambelii        4\n",
       "Zonotrichia leucophrys oriantha        4\n",
       "Zonotrichia querula                    4\n",
       "Zygodon viridissimus                   4\n",
       "Zygodon viridissimus var. rupestris    4\n",
       "Length: 5541, dtype: int64"
      ]
     },
     "execution_count": 10,
     "metadata": {},
     "output_type": "execute_result"
    }
   ],
   "source": [
    "observations.groupby(\"scientific_name\").size()"
   ]
  },
  {
   "cell_type": "code",
   "execution_count": 11,
   "id": "253f61f5",
   "metadata": {},
   "outputs": [
    {
     "name": "stdout",
     "output_type": "stream",
     "text": [
      "There are 7 categories of species in this dataset.\n"
     ]
    }
   ],
   "source": [
    "print(\"There are \" + str(species.category.nunique()) + \" categories of species in this dataset.\")"
   ]
  },
  {
   "cell_type": "markdown",
   "id": "6402bc70",
   "metadata": {},
   "source": [
    "### How many species are there in each of these categories?  ###"
   ]
  },
  {
   "cell_type": "code",
   "execution_count": 12,
   "id": "836e9f99",
   "metadata": {},
   "outputs": [
    {
     "data": {
      "text/plain": [
       "category\n",
       "Amphibian              80\n",
       "Bird                  521\n",
       "Fish                  127\n",
       "Mammal                214\n",
       "Nonvascular Plant     333\n",
       "Reptile                79\n",
       "Vascular Plant       4470\n",
       "dtype: int64"
      ]
     },
     "execution_count": 12,
     "metadata": {},
     "output_type": "execute_result"
    }
   ],
   "source": [
    "species.groupby(\"category\").size()"
   ]
  },
  {
   "cell_type": "markdown",
   "id": "526bae7e",
   "metadata": {},
   "source": [
    "### How many National Parks are there in the dataset, and what are their names? ###"
   ]
  },
  {
   "cell_type": "code",
   "execution_count": 13,
   "id": "aa3ecd67",
   "metadata": {},
   "outputs": [
    {
     "name": "stdout",
     "output_type": "stream",
     "text": [
      "There are 4 National Parks in this dataset.\n"
     ]
    }
   ],
   "source": [
    "print(\"There are \" + str(observations.park_name.nunique()) + \" National Parks in this dataset.\")"
   ]
  },
  {
   "cell_type": "code",
   "execution_count": 14,
   "id": "32931040",
   "metadata": {},
   "outputs": [
    {
     "data": {
      "text/plain": [
       "park_name\n",
       "Bryce National Park                    5824\n",
       "Great Smoky Mountains National Park    5824\n",
       "Yellowstone National Park              5824\n",
       "Yosemite National Park                 5824\n",
       "dtype: int64"
      ]
     },
     "execution_count": 14,
     "metadata": {},
     "output_type": "execute_result"
    }
   ],
   "source": [
    "observations.groupby(\"park_name\").size()"
   ]
  },
  {
   "cell_type": "markdown",
   "id": "abae9476",
   "metadata": {},
   "source": [
    "### There are 4 parks in the data set: ###\n",
    "\n",
    "- Bryce National Park\n",
    "- Great Smoky Mountains National Park\n",
    "- Yellowstone National Park\n",
    "- Yosemite National Park"
   ]
  },
  {
   "cell_type": "markdown",
   "id": "c2d4e802",
   "metadata": {},
   "source": [
    "### What are the conservation statuses of the species? ###"
   ]
  },
  {
   "cell_type": "code",
   "execution_count": 15,
   "id": "4f21b307",
   "metadata": {},
   "outputs": [
    {
     "name": "stdout",
     "output_type": "stream",
     "text": [
      "There are 4 conservation statuses.\n",
      "These conservation statuses are [nan 'Species of Concern' 'Endangered' 'Threatened' 'In Recovery']\n"
     ]
    }
   ],
   "source": [
    "print(\"There are \" + str(species.conservation_status.nunique()) + \" conservation statuses.\")\n",
    "print(\"These conservation statuses are \" + str(species.conservation_status.unique()))"
   ]
  },
  {
   "cell_type": "markdown",
   "id": "b1161254",
   "metadata": {},
   "source": [
    "### These are the conservation statuses : ###\n",
    "- Species of Concern\n",
    "- Endangered\n",
    "- Threatened\n",
    "- In Recovery\n",
    "- nan (empty data)"
   ]
  },
  {
   "cell_type": "markdown",
   "id": "972713a0",
   "metadata": {},
   "source": [
    "### Number of species in each conservation status: ###"
   ]
  },
  {
   "cell_type": "code",
   "execution_count": 16,
   "id": "1a6c7433",
   "metadata": {},
   "outputs": [
    {
     "data": {
      "text/plain": [
       "conservation_status\n",
       "Endangered             16\n",
       "In Recovery             4\n",
       "Species of Concern    161\n",
       "Threatened             10\n",
       "dtype: int64"
      ]
     },
     "execution_count": 16,
     "metadata": {},
     "output_type": "execute_result"
    }
   ],
   "source": [
    "species.groupby(\"conservation_status\").size()"
   ]
  },
  {
   "cell_type": "markdown",
   "id": "306010e1",
   "metadata": {},
   "source": [
    "### Of the species that have some level of protection, most of the species fall in to the \"Species of Concern\" conservation category. This is the lowest level of protection. ###"
   ]
  },
  {
   "cell_type": "code",
   "execution_count": 17,
   "id": "deb5d162",
   "metadata": {},
   "outputs": [
    {
     "name": "stdout",
     "output_type": "stream",
     "text": [
      "0       NaN\n",
      "1       NaN\n",
      "2       NaN\n",
      "3       NaN\n",
      "4       NaN\n",
      "       ... \n",
      "5819    NaN\n",
      "5820    NaN\n",
      "5821    NaN\n",
      "5822    NaN\n",
      "5823    NaN\n",
      "Name: conservation_status, Length: 5824, dtype: object\n"
     ]
    }
   ],
   "source": [
    "print(species.conservation_status)"
   ]
  },
  {
   "cell_type": "markdown",
   "id": "8ccba4c5",
   "metadata": {},
   "source": [
    "### There is lots of missing data in this conservation_status column. ###\n",
    "### Nan implies that species is not in danger. ###"
   ]
  },
  {
   "cell_type": "markdown",
   "id": "7e0c4bfa",
   "metadata": {},
   "source": [
    "# Clean the data. #"
   ]
  },
  {
   "cell_type": "markdown",
   "id": "fdff162e",
   "metadata": {},
   "source": [
    "### First task will be to clean and explore the conservation_status column in species. ###\n",
    "\n",
    "## The column conservation_status 5 possible values: ##\n",
    "    \n",
    "> <strong>Species of Concern:</strong> declining or appear to be in need of conservation\n",
    "    \n",
    "> <strong>Threatened:</strong> vulnerable to endangerment in the near future \n",
    "    \n",
    "> <strong>Endangered:</strong> seriously at risk of extinction \n",
    "    \n",
    "> <strong>In Recovery:</strong> formerly Endangered, but currently neither in danger of extinction throughout all or a significant portion of its range \n",
    "    \n",
    "> <strong>Nan</strong> values (missing data ) were detected. These values will need to be converted to \"Not endangered\". "
   ]
  },
  {
   "cell_type": "markdown",
   "id": "c9ae0bf6",
   "metadata": {},
   "source": [
    "### Change Nan to 'Not Endangered'"
   ]
  },
  {
   "cell_type": "code",
   "execution_count": 18,
   "id": "33b1b859",
   "metadata": {},
   "outputs": [
    {
     "data": {
      "text/plain": [
       "conservation_status\n",
       "Endangered              16\n",
       "In Recovery              4\n",
       "Not Endangered        5633\n",
       "Species of Concern     161\n",
       "Threatened              10\n",
       "dtype: int64"
      ]
     },
     "execution_count": 18,
     "metadata": {},
     "output_type": "execute_result"
    }
   ],
   "source": [
    "species.fillna('Not Endangered', inplace=True)\n",
    "species.groupby(\"conservation_status\").size()"
   ]
  },
  {
   "cell_type": "code",
   "execution_count": 19,
   "id": "70725e07",
   "metadata": {},
   "outputs": [
    {
     "name": "stdout",
     "output_type": "stream",
     "text": [
      "96.72046703296704\n"
     ]
    }
   ],
   "source": [
    "percent_notEndanger = (5633 * 100) / 5824\n",
    "print(percent_notEndanger)"
   ]
  },
  {
   "cell_type": "markdown",
   "id": "5802f13f",
   "metadata": {},
   "source": [
    "### Of the 5824 species, 5633 are not endangered. ###\n",
    "### 96.7% are not endangered. ###"
   ]
  },
  {
   "cell_type": "markdown",
   "id": "d3523112",
   "metadata": {},
   "source": [
    "# Analyze the data. #"
   ]
  },
  {
   "cell_type": "markdown",
   "id": "05c80d21",
   "metadata": {},
   "source": [
    "## How many species are there, in this dataset? How many of these species are endangered? ###"
   ]
  },
  {
   "cell_type": "code",
   "execution_count": 20,
   "id": "b6b38df7",
   "metadata": {},
   "outputs": [
    {
     "name": "stdout",
     "output_type": "stream",
     "text": [
      "There are 5824 species total.\n"
     ]
    }
   ],
   "source": [
    "species_total = species.shape[0]\n",
    "print(\"There are \" + str(species_total) + \" species total.\") "
   ]
  },
  {
   "cell_type": "code",
   "execution_count": 21,
   "id": "904bec18",
   "metadata": {},
   "outputs": [
    {
     "name": "stdout",
     "output_type": "stream",
     "text": [
      "Of the 5824 total amount of species, there are 5633 species that are not endangered.\n"
     ]
    }
   ],
   "source": [
    "endangered_no = sum(species.conservation_status == 'Not Endangered')\n",
    "print(\"Of the \" + str(species_total) + \" total amount of species, there are \" + str(endangered_no) + \" species that are not endangered.\")"
   ]
  },
  {
   "cell_type": "code",
   "execution_count": 22,
   "id": "632f67c9",
   "metadata": {},
   "outputs": [
    {
     "name": "stdout",
     "output_type": "stream",
     "text": [
      "There are 191 species that are endangered, and receive some level of protection.\n"
     ]
    }
   ],
   "source": [
    "endangered_yes = species_total - endangered_no\n",
    "print(\"There are \" + str(endangered_yes) + \" species that are endangered, and receive some level of protection.\")"
   ]
  },
  {
   "cell_type": "code",
   "execution_count": 23,
   "id": "3fb5a14a",
   "metadata": {},
   "outputs": [
    {
     "name": "stdout",
     "output_type": "stream",
     "text": [
      "3.0% of the species are endangered.\n"
     ]
    }
   ],
   "source": [
    "endangered_percent = species_total / endangered_yes * .1\n",
    "print(str(round(endangered_percent,1)) + \"% of the species are endangered.\")"
   ]
  },
  {
   "cell_type": "markdown",
   "id": "1e242038",
   "metadata": {},
   "source": [
    "## Of the 5824 species, only 191 are endangered. This is only 3% of the species. ###"
   ]
  },
  {
   "cell_type": "markdown",
   "id": "143d5943",
   "metadata": {},
   "source": [
    "## Show the number of species and the different categories of protection. ##"
   ]
  },
  {
   "cell_type": "code",
   "execution_count": 24,
   "id": "65acf2b5",
   "metadata": {},
   "outputs": [
    {
     "data": {
      "text/html": [
       "<div>\n",
       "<style scoped>\n",
       "    .dataframe tbody tr th:only-of-type {\n",
       "        vertical-align: middle;\n",
       "    }\n",
       "\n",
       "    .dataframe tbody tr th {\n",
       "        vertical-align: top;\n",
       "    }\n",
       "\n",
       "    .dataframe thead th {\n",
       "        text-align: right;\n",
       "    }\n",
       "</style>\n",
       "<table border=\"1\" class=\"dataframe\">\n",
       "  <thead>\n",
       "    <tr style=\"text-align: right;\">\n",
       "      <th>category</th>\n",
       "      <th>Amphibian</th>\n",
       "      <th>Bird</th>\n",
       "      <th>Fish</th>\n",
       "      <th>Mammal</th>\n",
       "      <th>Nonvascular Plant</th>\n",
       "      <th>Reptile</th>\n",
       "      <th>Vascular Plant</th>\n",
       "    </tr>\n",
       "    <tr>\n",
       "      <th>conservation_status</th>\n",
       "      <th></th>\n",
       "      <th></th>\n",
       "      <th></th>\n",
       "      <th></th>\n",
       "      <th></th>\n",
       "      <th></th>\n",
       "      <th></th>\n",
       "    </tr>\n",
       "  </thead>\n",
       "  <tbody>\n",
       "    <tr>\n",
       "      <th>Endangered</th>\n",
       "      <td>1.0</td>\n",
       "      <td>4.0</td>\n",
       "      <td>3.0</td>\n",
       "      <td>7.0</td>\n",
       "      <td>NaN</td>\n",
       "      <td>NaN</td>\n",
       "      <td>1.0</td>\n",
       "    </tr>\n",
       "    <tr>\n",
       "      <th>In Recovery</th>\n",
       "      <td>NaN</td>\n",
       "      <td>3.0</td>\n",
       "      <td>NaN</td>\n",
       "      <td>1.0</td>\n",
       "      <td>NaN</td>\n",
       "      <td>NaN</td>\n",
       "      <td>NaN</td>\n",
       "    </tr>\n",
       "    <tr>\n",
       "      <th>Species of Concern</th>\n",
       "      <td>4.0</td>\n",
       "      <td>72.0</td>\n",
       "      <td>4.0</td>\n",
       "      <td>28.0</td>\n",
       "      <td>5.0</td>\n",
       "      <td>5.0</td>\n",
       "      <td>43.0</td>\n",
       "    </tr>\n",
       "    <tr>\n",
       "      <th>Threatened</th>\n",
       "      <td>2.0</td>\n",
       "      <td>NaN</td>\n",
       "      <td>4.0</td>\n",
       "      <td>2.0</td>\n",
       "      <td>NaN</td>\n",
       "      <td>NaN</td>\n",
       "      <td>2.0</td>\n",
       "    </tr>\n",
       "  </tbody>\n",
       "</table>\n",
       "</div>"
      ],
      "text/plain": [
       "category             Amphibian  Bird  Fish  Mammal  Nonvascular Plant  \\\n",
       "conservation_status                                                     \n",
       "Endangered                 1.0   4.0   3.0     7.0                NaN   \n",
       "In Recovery                NaN   3.0   NaN     1.0                NaN   \n",
       "Species of Concern         4.0  72.0   4.0    28.0                5.0   \n",
       "Threatened                 2.0   NaN   4.0     2.0                NaN   \n",
       "\n",
       "category             Reptile  Vascular Plant  \n",
       "conservation_status                           \n",
       "Endangered               NaN             1.0  \n",
       "In Recovery              NaN             NaN  \n",
       "Species of Concern       5.0            43.0  \n",
       "Threatened               NaN             2.0  "
      ]
     },
     "execution_count": 24,
     "metadata": {},
     "output_type": "execute_result"
    }
   ],
   "source": [
    "conservationCategory = species[species.conservation_status != \"Not Endangered\"]\\\n",
    "    .groupby([\"conservation_status\", \"category\"])['scientific_name']\\\n",
    "    .count()\\\n",
    "    .unstack()\n",
    "\n",
    "conservationCategory"
   ]
  },
  {
   "cell_type": "code",
   "execution_count": 25,
   "id": "e8c8e0e4",
   "metadata": {},
   "outputs": [
    {
     "data": {
      "image/png": "[encoded data removed]",
      "text/plain": [
       "<Figure size 800x600 with 1 Axes>"
      ]
     },
     "metadata": {},
     "output_type": "display_data"
    }
   ],
   "source": [
    "ax = conservationCategory.plot(kind = 'bar', figsize=(8,6), \n",
    "                               stacked=True)\n",
    "ax.set_xlabel(\"Conservation Status\", size=16)\n",
    "ax.set_ylabel(\"Number of Species\", size=16);\n",
    "ax.set_title(\"Categories of Species\", size = 26)\n",
    "plt.xticks(rotation=45, ha=\"right\")\n",
    "ax.tick_params(axis='x', which='major', pad=15)\n"
   ]
  },
  {
   "cell_type": "markdown",
   "id": "1eea6f04",
   "metadata": {},
   "source": [
    "## Which category of species is most protected? ##"
   ]
  },
  {
   "cell_type": "code",
   "execution_count": 26,
   "id": "8fe2d15f",
   "metadata": {},
   "outputs": [],
   "source": [
    "#Create a new column called 'protected' that holds all species that are protected. "
   ]
  },
  {
   "cell_type": "code",
   "execution_count": 27,
   "id": "d4dd5662",
   "metadata": {},
   "outputs": [],
   "source": [
    "species['is_protected'] = species.conservation_status != 'Not Endangered'"
   ]
  },
  {
   "cell_type": "markdown",
   "id": "e5d0e2eb",
   "metadata": {},
   "source": [
    "### Here are the numbers of protected species vs unprotected. ###"
   ]
  },
  {
   "cell_type": "code",
   "execution_count": 28,
   "id": "f7b5fff1",
   "metadata": {},
   "outputs": [
    {
     "data": {
      "text/html": [
       "<div>\n",
       "<style scoped>\n",
       "    .dataframe tbody tr th:only-of-type {\n",
       "        vertical-align: middle;\n",
       "    }\n",
       "\n",
       "    .dataframe tbody tr th {\n",
       "        vertical-align: top;\n",
       "    }\n",
       "\n",
       "    .dataframe thead th {\n",
       "        text-align: right;\n",
       "    }\n",
       "</style>\n",
       "<table border=\"1\" class=\"dataframe\">\n",
       "  <thead>\n",
       "    <tr style=\"text-align: right;\">\n",
       "      <th></th>\n",
       "      <th>category</th>\n",
       "      <th>not_protected</th>\n",
       "      <th>protected</th>\n",
       "    </tr>\n",
       "  </thead>\n",
       "  <tbody>\n",
       "    <tr>\n",
       "      <th>0</th>\n",
       "      <td>Amphibian</td>\n",
       "      <td>72</td>\n",
       "      <td>7</td>\n",
       "    </tr>\n",
       "    <tr>\n",
       "      <th>1</th>\n",
       "      <td>Bird</td>\n",
       "      <td>413</td>\n",
       "      <td>75</td>\n",
       "    </tr>\n",
       "    <tr>\n",
       "      <th>2</th>\n",
       "      <td>Fish</td>\n",
       "      <td>115</td>\n",
       "      <td>11</td>\n",
       "    </tr>\n",
       "    <tr>\n",
       "      <th>3</th>\n",
       "      <td>Mammal</td>\n",
       "      <td>146</td>\n",
       "      <td>30</td>\n",
       "    </tr>\n",
       "    <tr>\n",
       "      <th>4</th>\n",
       "      <td>Nonvascular Plant</td>\n",
       "      <td>328</td>\n",
       "      <td>5</td>\n",
       "    </tr>\n",
       "    <tr>\n",
       "      <th>5</th>\n",
       "      <td>Reptile</td>\n",
       "      <td>73</td>\n",
       "      <td>5</td>\n",
       "    </tr>\n",
       "    <tr>\n",
       "      <th>6</th>\n",
       "      <td>Vascular Plant</td>\n",
       "      <td>4216</td>\n",
       "      <td>46</td>\n",
       "    </tr>\n",
       "  </tbody>\n",
       "</table>\n",
       "</div>"
      ],
      "text/plain": [
       "            category  not_protected  protected\n",
       "0          Amphibian             72          7\n",
       "1               Bird            413         75\n",
       "2               Fish            115         11\n",
       "3             Mammal            146         30\n",
       "4  Nonvascular Plant            328          5\n",
       "5            Reptile             73          5\n",
       "6     Vascular Plant           4216         46"
      ]
     },
     "execution_count": 28,
     "metadata": {},
     "output_type": "execute_result"
    }
   ],
   "source": [
    "category_counts = species.groupby(['category', 'is_protected'])\\\n",
    "                        .scientific_name.nunique()\\\n",
    "                        .reset_index()\\\n",
    "                        .pivot(columns='is_protected',\n",
    "                                      index='category',\n",
    "                                      values='scientific_name')\\\n",
    "                        .reset_index()\n",
    "category_counts.columns = ['category', 'not_protected', 'protected']\n",
    "\n",
    "category_counts"
   ]
  },
  {
   "cell_type": "markdown",
   "id": "c3442adc",
   "metadata": {},
   "source": [
    "### Show percentages (%) of protected species vs unprotected. ... ###"
   ]
  },
  {
   "cell_type": "code",
   "execution_count": 29,
   "id": "09f156a1",
   "metadata": {},
   "outputs": [
    {
     "data": {
      "text/html": [
       "<div>\n",
       "<style scoped>\n",
       "    .dataframe tbody tr th:only-of-type {\n",
       "        vertical-align: middle;\n",
       "    }\n",
       "\n",
       "    .dataframe tbody tr th {\n",
       "        vertical-align: top;\n",
       "    }\n",
       "\n",
       "    .dataframe thead th {\n",
       "        text-align: right;\n",
       "    }\n",
       "</style>\n",
       "<table border=\"1\" class=\"dataframe\">\n",
       "  <thead>\n",
       "    <tr style=\"text-align: right;\">\n",
       "      <th></th>\n",
       "      <th>category</th>\n",
       "      <th>not_protected</th>\n",
       "      <th>protected</th>\n",
       "      <th>percent_protected</th>\n",
       "    </tr>\n",
       "  </thead>\n",
       "  <tbody>\n",
       "    <tr>\n",
       "      <th>0</th>\n",
       "      <td>Amphibian</td>\n",
       "      <td>72</td>\n",
       "      <td>7</td>\n",
       "      <td>8.860759</td>\n",
       "    </tr>\n",
       "    <tr>\n",
       "      <th>1</th>\n",
       "      <td>Bird</td>\n",
       "      <td>413</td>\n",
       "      <td>75</td>\n",
       "      <td>15.368852</td>\n",
       "    </tr>\n",
       "    <tr>\n",
       "      <th>2</th>\n",
       "      <td>Fish</td>\n",
       "      <td>115</td>\n",
       "      <td>11</td>\n",
       "      <td>8.730159</td>\n",
       "    </tr>\n",
       "    <tr>\n",
       "      <th>3</th>\n",
       "      <td>Mammal</td>\n",
       "      <td>146</td>\n",
       "      <td>30</td>\n",
       "      <td>17.045455</td>\n",
       "    </tr>\n",
       "    <tr>\n",
       "      <th>4</th>\n",
       "      <td>Nonvascular Plant</td>\n",
       "      <td>328</td>\n",
       "      <td>5</td>\n",
       "      <td>1.501502</td>\n",
       "    </tr>\n",
       "    <tr>\n",
       "      <th>5</th>\n",
       "      <td>Reptile</td>\n",
       "      <td>73</td>\n",
       "      <td>5</td>\n",
       "      <td>6.410256</td>\n",
       "    </tr>\n",
       "    <tr>\n",
       "      <th>6</th>\n",
       "      <td>Vascular Plant</td>\n",
       "      <td>4216</td>\n",
       "      <td>46</td>\n",
       "      <td>1.079305</td>\n",
       "    </tr>\n",
       "  </tbody>\n",
       "</table>\n",
       "</div>"
      ],
      "text/plain": [
       "            category  not_protected  protected  percent_protected\n",
       "0          Amphibian             72          7           8.860759\n",
       "1               Bird            413         75          15.368852\n",
       "2               Fish            115         11           8.730159\n",
       "3             Mammal            146         30          17.045455\n",
       "4  Nonvascular Plant            328          5           1.501502\n",
       "5            Reptile             73          5           6.410256\n",
       "6     Vascular Plant           4216         46           1.079305"
      ]
     },
     "execution_count": 29,
     "metadata": {},
     "output_type": "execute_result"
    }
   ],
   "source": [
    "category_counts['percent_protected'] = category_counts.protected / \\\n",
    "                                      (category_counts.protected + category_counts.not_protected) * 100\n",
    "\n",
    "category_counts"
   ]
  },
  {
   "cell_type": "code",
   "execution_count": 30,
   "id": "0cc894a0",
   "metadata": {},
   "outputs": [
    {
     "data": {
      "text/html": [
       "<div>\n",
       "<style scoped>\n",
       "    .dataframe tbody tr th:only-of-type {\n",
       "        vertical-align: middle;\n",
       "    }\n",
       "\n",
       "    .dataframe tbody tr th {\n",
       "        vertical-align: top;\n",
       "    }\n",
       "\n",
       "    .dataframe thead th {\n",
       "        text-align: right;\n",
       "    }\n",
       "</style>\n",
       "<table border=\"1\" class=\"dataframe\">\n",
       "  <thead>\n",
       "    <tr style=\"text-align: right;\">\n",
       "      <th>category</th>\n",
       "      <th>Amphibian</th>\n",
       "      <th>Bird</th>\n",
       "      <th>Fish</th>\n",
       "      <th>Mammal</th>\n",
       "      <th>Nonvascular Plant</th>\n",
       "      <th>Reptile</th>\n",
       "      <th>Vascular Plant</th>\n",
       "    </tr>\n",
       "    <tr>\n",
       "      <th>conservation_status</th>\n",
       "      <th></th>\n",
       "      <th></th>\n",
       "      <th></th>\n",
       "      <th></th>\n",
       "      <th></th>\n",
       "      <th></th>\n",
       "      <th></th>\n",
       "    </tr>\n",
       "  </thead>\n",
       "  <tbody>\n",
       "    <tr>\n",
       "      <th>Endangered</th>\n",
       "      <td>1.0</td>\n",
       "      <td>4.0</td>\n",
       "      <td>3.0</td>\n",
       "      <td>7.0</td>\n",
       "      <td>NaN</td>\n",
       "      <td>NaN</td>\n",
       "      <td>1.0</td>\n",
       "    </tr>\n",
       "    <tr>\n",
       "      <th>In Recovery</th>\n",
       "      <td>NaN</td>\n",
       "      <td>3.0</td>\n",
       "      <td>NaN</td>\n",
       "      <td>1.0</td>\n",
       "      <td>NaN</td>\n",
       "      <td>NaN</td>\n",
       "      <td>NaN</td>\n",
       "    </tr>\n",
       "    <tr>\n",
       "      <th>Not Endangered</th>\n",
       "      <td>73.0</td>\n",
       "      <td>442.0</td>\n",
       "      <td>116.0</td>\n",
       "      <td>176.0</td>\n",
       "      <td>328.0</td>\n",
       "      <td>74.0</td>\n",
       "      <td>4424.0</td>\n",
       "    </tr>\n",
       "    <tr>\n",
       "      <th>Species of Concern</th>\n",
       "      <td>4.0</td>\n",
       "      <td>72.0</td>\n",
       "      <td>4.0</td>\n",
       "      <td>28.0</td>\n",
       "      <td>5.0</td>\n",
       "      <td>5.0</td>\n",
       "      <td>43.0</td>\n",
       "    </tr>\n",
       "    <tr>\n",
       "      <th>Threatened</th>\n",
       "      <td>2.0</td>\n",
       "      <td>NaN</td>\n",
       "      <td>4.0</td>\n",
       "      <td>2.0</td>\n",
       "      <td>NaN</td>\n",
       "      <td>NaN</td>\n",
       "      <td>2.0</td>\n",
       "    </tr>\n",
       "  </tbody>\n",
       "</table>\n",
       "</div>"
      ],
      "text/plain": [
       "category             Amphibian   Bird   Fish  Mammal  Nonvascular Plant  \\\n",
       "conservation_status                                                       \n",
       "Endangered                 1.0    4.0    3.0     7.0                NaN   \n",
       "In Recovery                NaN    3.0    NaN     1.0                NaN   \n",
       "Not Endangered            73.0  442.0  116.0   176.0              328.0   \n",
       "Species of Concern         4.0   72.0    4.0    28.0                5.0   \n",
       "Threatened                 2.0    NaN    4.0     2.0                NaN   \n",
       "\n",
       "category             Reptile  Vascular Plant  \n",
       "conservation_status                           \n",
       "Endangered               NaN             1.0  \n",
       "In Recovery              NaN             NaN  \n",
       "Not Endangered          74.0          4424.0  \n",
       "Species of Concern       5.0            43.0  \n",
       "Threatened               NaN             2.0  "
      ]
     },
     "execution_count": 30,
     "metadata": {},
     "output_type": "execute_result"
    }
   ],
   "source": [
    "conservation_category = pd.pivot_table(\n",
    "        species[species.conservation_status != \"Least Concern\"],\n",
    "        values='scientific_name',\n",
    "        index='conservation_status', \n",
    "        columns='category',\n",
    "        aggfunc=pd.Series.count\n",
    "        )\n",
    "    \n",
    "conservation_category"
   ]
  },
  {
   "cell_type": "markdown",
   "id": "ab55cce8",
   "metadata": {},
   "source": [
    "### The largest percentile of species that are protected are mammals, with a close 2nd being birds. ###\n",
    "### Mammals represent 17% of the protected species. ###\n",
    "### Birds represent 15% of the protected species. ###\n",
    "### Plants, represent only 2.5% of the protected species. ###"
   ]
  },
  {
   "cell_type": "markdown",
   "id": "3d030cdb",
   "metadata": {},
   "source": [
    "## Let's compare mammals to birds ##"
   ]
  },
  {
   "cell_type": "code",
   "execution_count": 95,
   "id": "2ed51346",
   "metadata": {},
   "outputs": [
    {
     "data": {
      "text/html": [
       "<img src=\"bird_squirrel.jpeg\" width=\"300\" height=\"300\"/>"
      ],
      "text/plain": [
       "<IPython.core.display.Image object>"
      ]
     },
     "execution_count": 95,
     "metadata": {},
     "output_type": "execute_result"
    }
   ],
   "source": [
    "Image(url=\"bird_squirrel.jpeg\", width=300, height=300) "
   ]
  },
  {
   "cell_type": "code",
   "execution_count": 31,
   "id": "86ed0aae",
   "metadata": {},
   "outputs": [],
   "source": [
    "# Create a chi square test to compare mammals to birds. \n",
    "# 30 is the number of protected mammals, and 146 is the number of unprotected mammals.\n",
    "# 413 is the number of unprotected birds, and 75 is the number of protected birds."
   ]
  },
  {
   "cell_type": "code",
   "execution_count": 32,
   "id": "3105ad14",
   "metadata": {},
   "outputs": [
    {
     "data": {
      "text/plain": [
       "Chi2ContingencyResult(statistic=0.1617014831654557, pvalue=0.6875948096661336, dof=1, expected_freq=array([[ 27.8313253, 148.1686747],\n",
       "       [ 77.1686747, 410.8313253]]))"
      ]
     },
     "execution_count": 32,
     "metadata": {},
     "output_type": "execute_result"
    }
   ],
   "source": [
    "contingency1 = [[30, 146],\n",
    "              [75, 413]]\n",
    "chi2_contingency(contingency1)"
   ]
  },
  {
   "cell_type": "code",
   "execution_count": 33,
   "id": "b22feb02",
   "metadata": {},
   "outputs": [],
   "source": [
    "# the pvalue is .69"
   ]
  },
  {
   "cell_type": "markdown",
   "id": "bcccd9d1",
   "metadata": {},
   "source": [
    "### There is no significant difference between mammals and birds and their level of protection. ###"
   ]
  },
  {
   "cell_type": "markdown",
   "id": "e69708a9",
   "metadata": {},
   "source": [
    "## Now let's compare mammals to reptiles ##"
   ]
  },
  {
   "cell_type": "code",
   "execution_count": 94,
   "id": "8007638b",
   "metadata": {},
   "outputs": [
    {
     "data": {
      "text/html": [
       "<img src=\"reptile.jpeg\" width=\"300\" height=\"300\"/>"
      ],
      "text/plain": [
       "<IPython.core.display.Image object>"
      ]
     },
     "execution_count": 94,
     "metadata": {},
     "output_type": "execute_result"
    }
   ],
   "source": [
    "Image(url=\"reptile.jpeg\", width=300, height=300) "
   ]
  },
  {
   "cell_type": "code",
   "execution_count": 34,
   "id": "3334ab88",
   "metadata": {},
   "outputs": [],
   "source": [
    "# Create a chi square test to compare mammals to reptiles.\n",
    "# 30 is the number of protected mammals, and 146 is the number of unprotected mammals.\n",
    "# 73 is the number of unprotected reptiles, and 5 is the number of protected reptiles."
   ]
  },
  {
   "cell_type": "code",
   "execution_count": 35,
   "id": "b1fa8a07",
   "metadata": {},
   "outputs": [
    {
     "data": {
      "text/plain": [
       "Chi2ContingencyResult(statistic=4.289183096203645, pvalue=0.03835559022969898, dof=1, expected_freq=array([[ 24.2519685, 151.7480315],\n",
       "       [ 10.7480315,  67.2519685]]))"
      ]
     },
     "execution_count": 35,
     "metadata": {},
     "output_type": "execute_result"
    }
   ],
   "source": [
    "contingency2 = [[30, 146],\n",
    "               [5, 73]]\n",
    "chi2_contingency(contingency2)"
   ]
  },
  {
   "cell_type": "code",
   "execution_count": 36,
   "id": "d0fd65a6",
   "metadata": {},
   "outputs": [],
   "source": [
    "# the pvalue is .39"
   ]
  },
  {
   "cell_type": "markdown",
   "id": "c817e52f",
   "metadata": {},
   "source": [
    "### There is a difference in this comparison. Mammals are shown to have ###\n",
    "### a statistically significant higher rate of needed protection compared with reptiles. ###"
   ]
  },
  {
   "cell_type": "markdown",
   "id": "b321b004",
   "metadata": {},
   "source": [
    "## Let's look at Mammals. ##"
   ]
  },
  {
   "cell_type": "code",
   "execution_count": 37,
   "id": "de09ca87",
   "metadata": {},
   "outputs": [],
   "source": [
    "# Remove extra characters / punctuation in the Mammal column."
   ]
  },
  {
   "cell_type": "code",
   "execution_count": 38,
   "id": "c56f3099",
   "metadata": {},
   "outputs": [
    {
     "data": {
      "text/plain": [
       "[['Gappers', 'RedBacked', 'Vole'],\n",
       " ['American', 'Bison', 'Bison'],\n",
       " ['Aurochs',\n",
       "  'Aurochs',\n",
       "  'Domestic',\n",
       "  'Cattle',\n",
       "  'Feral',\n",
       "  'Domesticated',\n",
       "  'Cattle'],\n",
       " ['Domestic', 'Sheep', 'Mouflon', 'Red', 'Sheep', 'Sheep', 'Feral'],\n",
       " ['Wapiti', 'Or', 'Elk'],\n",
       " ['WhiteTailed', 'Deer'],\n",
       " ['Feral', 'Hog', 'Wild', 'Pig'],\n",
       " ['Coyote'],\n",
       " ['Gray', 'Wolf']]"
      ]
     },
     "execution_count": 38,
     "metadata": {},
     "output_type": "execute_result"
    }
   ],
   "source": [
    "def remove_punctuations(text):\n",
    "    for punctuation in string.punctuation:\n",
    "        text = text.replace(punctuation, '')\n",
    "    return text\n",
    "\n",
    "common_Names = species[species.category == \"Mammal\"]\\\n",
    "    .common_names\\\n",
    "    .apply(remove_punctuations)\\\n",
    "    .str.split().tolist()\n",
    "\n",
    "common_Names[:9]"
   ]
  },
  {
   "cell_type": "code",
   "execution_count": 39,
   "id": "e160696b",
   "metadata": {},
   "outputs": [],
   "source": [
    "#clean the species of duplicate words."
   ]
  },
  {
   "cell_type": "code",
   "execution_count": 40,
   "id": "d58aa45c",
   "metadata": {},
   "outputs": [
    {
     "data": {
      "text/plain": [
       "[['Gappers', 'RedBacked', 'Vole'],\n",
       " ['American', 'Bison'],\n",
       " ['Aurochs', 'Domestic', 'Cattle', 'Feral', 'Domesticated'],\n",
       " ['Domestic', 'Sheep', 'Mouflon', 'Red', 'Feral'],\n",
       " ['Wapiti', 'Or', 'Elk'],\n",
       " ['WhiteTailed', 'Deer'],\n",
       " ['Feral', 'Hog', 'Wild', 'Pig'],\n",
       " ['Coyote'],\n",
       " ['Gray', 'Wolf']]"
      ]
     },
     "execution_count": 40,
     "metadata": {},
     "output_type": "execute_result"
    }
   ],
   "source": [
    "cleanRows = []\n",
    "\n",
    "for item in common_Names:\n",
    "    item = list(dict.fromkeys(item))\n",
    "    cleanRows.append(item)\n",
    "    \n",
    "cleanRows[:9]"
   ]
  },
  {
   "cell_type": "code",
   "execution_count": 41,
   "id": "4e2f01d1",
   "metadata": {},
   "outputs": [],
   "source": [
    "#condense those lists in to one list."
   ]
  },
  {
   "cell_type": "code",
   "execution_count": 42,
   "id": "b42bb391",
   "metadata": {},
   "outputs": [
    {
     "data": {
      "text/plain": [
       "['Gappers',\n",
       " 'RedBacked',\n",
       " 'Vole',\n",
       " 'American',\n",
       " 'Bison',\n",
       " 'Aurochs',\n",
       " 'Domestic',\n",
       " 'Cattle',\n",
       " 'Feral',\n",
       " 'Domesticated',\n",
       " 'Domestic',\n",
       " 'Sheep',\n",
       " 'Mouflon',\n",
       " 'Red',\n",
       " 'Feral',\n",
       " 'Wapiti',\n",
       " 'Or',\n",
       " 'Elk',\n",
       " 'WhiteTailed',\n",
       " 'Deer',\n",
       " 'Feral',\n",
       " 'Hog',\n",
       " 'Wild',\n",
       " 'Pig',\n",
       " 'Coyote',\n",
       " 'Gray',\n",
       " 'Wolf',\n",
       " 'Red',\n",
       " 'Wolf',\n",
       " 'Common',\n",
       " 'Gray',\n",
       " 'Fox',\n",
       " 'Black',\n",
       " 'Fox',\n",
       " 'Cross',\n",
       " 'Red',\n",
       " 'Silver',\n",
       " 'Red',\n",
       " 'Fox',\n",
       " 'Mountain',\n",
       " 'Lion',\n",
       " 'Wild',\n",
       " 'Cat',\n",
       " 'Wildcat',\n",
       " 'Bobcat',\n",
       " 'Panther',\n",
       " 'Mountain',\n",
       " 'Lion',\n",
       " 'Striped',\n",
       " 'Skunk',\n",
       " 'Eastern',\n",
       " 'Spotted',\n",
       " 'Skunk',\n",
       " 'River',\n",
       " 'Otter',\n",
       " 'Northern',\n",
       " 'River',\n",
       " 'Otter',\n",
       " 'Fisher',\n",
       " 'Mink',\n",
       " 'Or',\n",
       " 'Weasel',\n",
       " 'LongTailed',\n",
       " 'Weasel',\n",
       " 'Least',\n",
       " 'Weasel',\n",
       " 'Mink',\n",
       " 'Common',\n",
       " 'Raccoon',\n",
       " 'Black',\n",
       " 'Bear',\n",
       " 'Rafinesques',\n",
       " 'BigEared',\n",
       " 'Bat',\n",
       " 'Big',\n",
       " 'Brown',\n",
       " 'Bat',\n",
       " 'SilverHaired',\n",
       " 'Bat',\n",
       " 'Eastern',\n",
       " 'Red',\n",
       " 'Bat',\n",
       " 'Hoary',\n",
       " 'Bat',\n",
       " 'Mississippi',\n",
       " 'Myotis',\n",
       " 'Southeastern',\n",
       " 'Gray',\n",
       " 'Myotis',\n",
       " 'Keens']"
      ]
     },
     "execution_count": 42,
     "metadata": {},
     "output_type": "execute_result"
    }
   ],
   "source": [
    "res = list(chain.from_iterable(i if isinstance(i, list) else [i] for i in cleanRows))\n",
    "res[:90]"
   ]
  },
  {
   "cell_type": "markdown",
   "id": "043a8db0",
   "metadata": {},
   "source": [
    "## How many are there of each mammal ? ##"
   ]
  },
  {
   "cell_type": "code",
   "execution_count": 43,
   "id": "6b82c339",
   "metadata": {},
   "outputs": [
    {
     "data": {
      "text/html": [
       "<div>\n",
       "<style scoped>\n",
       "    .dataframe tbody tr th:only-of-type {\n",
       "        vertical-align: middle;\n",
       "    }\n",
       "\n",
       "    .dataframe tbody tr th {\n",
       "        vertical-align: top;\n",
       "    }\n",
       "\n",
       "    .dataframe thead th {\n",
       "        text-align: right;\n",
       "    }\n",
       "</style>\n",
       "<table border=\"1\" class=\"dataframe\">\n",
       "  <thead>\n",
       "    <tr style=\"text-align: right;\">\n",
       "      <th></th>\n",
       "      <th>Word</th>\n",
       "      <th>Count</th>\n",
       "    </tr>\n",
       "  </thead>\n",
       "  <tbody>\n",
       "    <tr>\n",
       "      <th>182</th>\n",
       "      <td>Bat</td>\n",
       "      <td>23</td>\n",
       "    </tr>\n",
       "    <tr>\n",
       "      <th>128</th>\n",
       "      <td>Shrew</td>\n",
       "      <td>18</td>\n",
       "    </tr>\n",
       "    <tr>\n",
       "      <th>176</th>\n",
       "      <td>Myotis</td>\n",
       "      <td>17</td>\n",
       "    </tr>\n",
       "    <tr>\n",
       "      <th>3</th>\n",
       "      <td>Mouse</td>\n",
       "      <td>16</td>\n",
       "    </tr>\n",
       "    <tr>\n",
       "      <th>183</th>\n",
       "      <td>Chipmunk</td>\n",
       "      <td>13</td>\n",
       "    </tr>\n",
       "    <tr>\n",
       "      <th>48</th>\n",
       "      <td>American</td>\n",
       "      <td>12</td>\n",
       "    </tr>\n",
       "    <tr>\n",
       "      <th>111</th>\n",
       "      <td>Squirrel</td>\n",
       "      <td>12</td>\n",
       "    </tr>\n",
       "    <tr>\n",
       "      <th>120</th>\n",
       "      <td>Vole</td>\n",
       "      <td>11</td>\n",
       "    </tr>\n",
       "    <tr>\n",
       "      <th>107</th>\n",
       "      <td>Eastern</td>\n",
       "      <td>11</td>\n",
       "    </tr>\n",
       "    <tr>\n",
       "      <th>194</th>\n",
       "      <td>Western</td>\n",
       "      <td>10</td>\n",
       "    </tr>\n",
       "  </tbody>\n",
       "</table>\n",
       "</div>"
      ],
      "text/plain": [
       "         Word  Count\n",
       "182       Bat     23\n",
       "128     Shrew     18\n",
       "176    Myotis     17\n",
       "3       Mouse     16\n",
       "183  Chipmunk     13\n",
       "48   American     12\n",
       "111  Squirrel     12\n",
       "120      Vole     11\n",
       "107   Eastern     11\n",
       "194   Western     10"
      ]
     },
     "execution_count": 43,
     "metadata": {},
     "output_type": "execute_result"
    }
   ],
   "source": [
    "words_counted = []\n",
    "\n",
    "for i in res:\n",
    "    x = res.count(i)\n",
    "    words_counted.append((i,x))\n",
    "\n",
    "pd.DataFrame(set(words_counted), columns =['Word', 'Count']).sort_values(\"Count\", ascending = False).head(10)"
   ]
  },
  {
   "cell_type": "markdown",
   "id": "b522c4e2",
   "metadata": {},
   "source": [
    "### There are more occurances of bats, than any other mammal, with shrew as a close 2nd. ###"
   ]
  },
  {
   "cell_type": "markdown",
   "id": "13164848",
   "metadata": {},
   "source": [
    "# Let's look at Bats. #"
   ]
  },
  {
   "cell_type": "code",
   "execution_count": 44,
   "id": "c25f0e7d",
   "metadata": {},
   "outputs": [
    {
     "data": {
      "text/html": [
       "<img src=\"bats_adorable.jpeg\" width=\"300\" height=\"300\"/>"
      ],
      "text/plain": [
       "<IPython.core.display.Image object>"
      ]
     },
     "execution_count": 44,
     "metadata": {},
     "output_type": "execute_result"
    }
   ],
   "source": [
    "Image(url=\"bats_adorable.jpeg\", width=300, height=300) "
   ]
  },
  {
   "cell_type": "markdown",
   "id": "1a4035d6",
   "metadata": {},
   "source": [
    "## How many different bat species are there? ##"
   ]
  },
  {
   "cell_type": "code",
   "execution_count": 45,
   "id": "3c9426c1",
   "metadata": {},
   "outputs": [
    {
     "name": "stdout",
     "output_type": "stream",
     "text": [
      "There are 23 different bat species.\n"
     ]
    }
   ],
   "source": [
    "species['is_bat'] = species.common_names.str.contains(r\"\\bBat\\b\", regex = True)\n",
    "print(\"There are \" + str(sum(species.is_bat)) + \" different bat species.\")"
   ]
  },
  {
   "cell_type": "code",
   "execution_count": 46,
   "id": "58d57d22",
   "metadata": {},
   "outputs": [
    {
     "name": "stdout",
     "output_type": "stream",
     "text": [
      "False    5801\n",
      "True       23\n",
      "Name: is_bat, dtype: int64\n"
     ]
    }
   ],
   "source": [
    "b = species['is_bat'].value_counts()\n",
    "print(b)"
   ]
  },
  {
   "cell_type": "code",
   "execution_count": 47,
   "id": "fa557d00",
   "metadata": {},
   "outputs": [
    {
     "name": "stdout",
     "output_type": "stream",
     "text": [
      "There are 23 different bat species.\n"
     ]
    }
   ],
   "source": [
    "species['is_bat'] = species.common_names.str.contains(r\"\\bBat\\b\", regex = True)\n",
    "print(\"There are \" + str(sum(species.is_bat)) + \" different bat species.\")"
   ]
  },
  {
   "cell_type": "markdown",
   "id": "5193f9e3",
   "metadata": {},
   "source": [
    "### There are 23 different bat species observed this week at these National Parks. ###"
   ]
  },
  {
   "cell_type": "code",
   "execution_count": 48,
   "id": "d74e397a",
   "metadata": {},
   "outputs": [
    {
     "data": {
      "text/html": [
       "<img src=\"HonduranWhiteBat.jpeg\" width=\"300\" height=\"300\"/>"
      ],
      "text/plain": [
       "<IPython.core.display.Image object>"
      ]
     },
     "execution_count": 48,
     "metadata": {},
     "output_type": "execute_result"
    }
   ],
   "source": [
    "Image(url=\"HonduranWhiteBat.jpeg\", width=300, height=300) "
   ]
  },
  {
   "cell_type": "code",
   "execution_count": 49,
   "id": "0a88070d",
   "metadata": {},
   "outputs": [
    {
     "data": {
      "text/html": [
       "<div>\n",
       "<style scoped>\n",
       "    .dataframe tbody tr th:only-of-type {\n",
       "        vertical-align: middle;\n",
       "    }\n",
       "\n",
       "    .dataframe tbody tr th {\n",
       "        vertical-align: top;\n",
       "    }\n",
       "\n",
       "    .dataframe thead th {\n",
       "        text-align: right;\n",
       "    }\n",
       "</style>\n",
       "<table border=\"1\" class=\"dataframe\">\n",
       "  <thead>\n",
       "    <tr style=\"text-align: right;\">\n",
       "      <th></th>\n",
       "      <th>category</th>\n",
       "      <th>scientific_name</th>\n",
       "      <th>common_names</th>\n",
       "      <th>conservation_status</th>\n",
       "      <th>is_protected</th>\n",
       "      <th>is_bat</th>\n",
       "    </tr>\n",
       "  </thead>\n",
       "  <tbody>\n",
       "    <tr>\n",
       "      <th>28</th>\n",
       "      <td>Mammal</td>\n",
       "      <td>Corynorhinus rafinesquii</td>\n",
       "      <td>Rafinesque's Big-Eared Bat</td>\n",
       "      <td>Not Endangered</td>\n",
       "      <td>False</td>\n",
       "      <td>True</td>\n",
       "    </tr>\n",
       "    <tr>\n",
       "      <th>29</th>\n",
       "      <td>Mammal</td>\n",
       "      <td>Eptesicus fuscus</td>\n",
       "      <td>Big Brown Bat</td>\n",
       "      <td>Species of Concern</td>\n",
       "      <td>True</td>\n",
       "      <td>True</td>\n",
       "    </tr>\n",
       "    <tr>\n",
       "      <th>30</th>\n",
       "      <td>Mammal</td>\n",
       "      <td>Lasionycteris noctivagans</td>\n",
       "      <td>Silver-Haired Bat</td>\n",
       "      <td>Species of Concern</td>\n",
       "      <td>True</td>\n",
       "      <td>True</td>\n",
       "    </tr>\n",
       "    <tr>\n",
       "      <th>31</th>\n",
       "      <td>Mammal</td>\n",
       "      <td>Lasiurus borealis</td>\n",
       "      <td>Eastern Red Bat, Red Bat</td>\n",
       "      <td>Not Endangered</td>\n",
       "      <td>False</td>\n",
       "      <td>True</td>\n",
       "    </tr>\n",
       "    <tr>\n",
       "      <th>32</th>\n",
       "      <td>Mammal</td>\n",
       "      <td>Lasiurus cinereus</td>\n",
       "      <td>Hoary Bat</td>\n",
       "      <td>Not Endangered</td>\n",
       "      <td>False</td>\n",
       "      <td>True</td>\n",
       "    </tr>\n",
       "    <tr>\n",
       "      <th>36</th>\n",
       "      <td>Mammal</td>\n",
       "      <td>Myotis leibii</td>\n",
       "      <td>Eastern Small-Footed Bat, Eastern Small-Footed...</td>\n",
       "      <td>Species of Concern</td>\n",
       "      <td>True</td>\n",
       "      <td>True</td>\n",
       "    </tr>\n",
       "    <tr>\n",
       "      <th>37</th>\n",
       "      <td>Mammal</td>\n",
       "      <td>Myotis lucifugus</td>\n",
       "      <td>Little Brown Bat, Little Brown Myotis</td>\n",
       "      <td>Species of Concern</td>\n",
       "      <td>True</td>\n",
       "      <td>True</td>\n",
       "    </tr>\n",
       "    <tr>\n",
       "      <th>38</th>\n",
       "      <td>Mammal</td>\n",
       "      <td>Myotis septentrionalis</td>\n",
       "      <td>Northern Long-Eared Bat, Northern Myotis</td>\n",
       "      <td>Threatened</td>\n",
       "      <td>True</td>\n",
       "      <td>True</td>\n",
       "    </tr>\n",
       "    <tr>\n",
       "      <th>39</th>\n",
       "      <td>Mammal</td>\n",
       "      <td>Myotis sodalis</td>\n",
       "      <td>Indiana Bat, Indiana Or Social Myotis</td>\n",
       "      <td>Endangered</td>\n",
       "      <td>True</td>\n",
       "      <td>True</td>\n",
       "    </tr>\n",
       "    <tr>\n",
       "      <th>40</th>\n",
       "      <td>Mammal</td>\n",
       "      <td>Nycticeius humeralis</td>\n",
       "      <td>Evening Bat</td>\n",
       "      <td>Not Endangered</td>\n",
       "      <td>False</td>\n",
       "      <td>True</td>\n",
       "    </tr>\n",
       "    <tr>\n",
       "      <th>3033</th>\n",
       "      <td>Mammal</td>\n",
       "      <td>Antrozous pallidus</td>\n",
       "      <td>Pallid Bat, Pallid Bat</td>\n",
       "      <td>Species of Concern</td>\n",
       "      <td>True</td>\n",
       "      <td>True</td>\n",
       "    </tr>\n",
       "    <tr>\n",
       "      <th>3034</th>\n",
       "      <td>Mammal</td>\n",
       "      <td>Corynorhinus townsendii</td>\n",
       "      <td>Mule-Eared Bat, Pacific Townsend's Big-Eared B...</td>\n",
       "      <td>Not Endangered</td>\n",
       "      <td>False</td>\n",
       "      <td>True</td>\n",
       "    </tr>\n",
       "    <tr>\n",
       "      <th>3035</th>\n",
       "      <td>Mammal</td>\n",
       "      <td>Eptesicus fuscus</td>\n",
       "      <td>Big Brown Bat, Big Brown Bat</td>\n",
       "      <td>Species of Concern</td>\n",
       "      <td>True</td>\n",
       "      <td>True</td>\n",
       "    </tr>\n",
       "    <tr>\n",
       "      <th>3036</th>\n",
       "      <td>Mammal</td>\n",
       "      <td>Euderma maculatum</td>\n",
       "      <td>Spotted Bat, Spotted Bat</td>\n",
       "      <td>Species of Concern</td>\n",
       "      <td>True</td>\n",
       "      <td>True</td>\n",
       "    </tr>\n",
       "    <tr>\n",
       "      <th>3037</th>\n",
       "      <td>Mammal</td>\n",
       "      <td>Lasionycteris noctivagans</td>\n",
       "      <td>Silver-Haired Bat, Silver-Haired Bat</td>\n",
       "      <td>Species of Concern</td>\n",
       "      <td>True</td>\n",
       "      <td>True</td>\n",
       "    </tr>\n",
       "    <tr>\n",
       "      <th>3038</th>\n",
       "      <td>Mammal</td>\n",
       "      <td>Lasiurus cinereus</td>\n",
       "      <td>Hoary Bat, Hoary Bat</td>\n",
       "      <td>Not Endangered</td>\n",
       "      <td>False</td>\n",
       "      <td>True</td>\n",
       "    </tr>\n",
       "    <tr>\n",
       "      <th>3040</th>\n",
       "      <td>Mammal</td>\n",
       "      <td>Myotis ciliolabrum</td>\n",
       "      <td>Small-Footed Myotis, Western Small-Footed Bat,...</td>\n",
       "      <td>Not Endangered</td>\n",
       "      <td>False</td>\n",
       "      <td>True</td>\n",
       "    </tr>\n",
       "    <tr>\n",
       "      <th>3042</th>\n",
       "      <td>Mammal</td>\n",
       "      <td>Myotis lucifugus</td>\n",
       "      <td>Little Brown Bat, Little Brown Myotis, Little ...</td>\n",
       "      <td>Species of Concern</td>\n",
       "      <td>True</td>\n",
       "      <td>True</td>\n",
       "    </tr>\n",
       "    <tr>\n",
       "      <th>4461</th>\n",
       "      <td>Mammal</td>\n",
       "      <td>Eumops perotis</td>\n",
       "      <td>Western Mastiff Bat</td>\n",
       "      <td>Not Endangered</td>\n",
       "      <td>False</td>\n",
       "      <td>True</td>\n",
       "    </tr>\n",
       "    <tr>\n",
       "      <th>4462</th>\n",
       "      <td>Mammal</td>\n",
       "      <td>Tadarida brasiliensis</td>\n",
       "      <td>Mexican Free-Tailed Bat</td>\n",
       "      <td>Not Endangered</td>\n",
       "      <td>False</td>\n",
       "      <td>True</td>\n",
       "    </tr>\n",
       "    <tr>\n",
       "      <th>4463</th>\n",
       "      <td>Mammal</td>\n",
       "      <td>Corynorhinus townsendii</td>\n",
       "      <td>Townsend's Big-Eared Bat</td>\n",
       "      <td>Not Endangered</td>\n",
       "      <td>False</td>\n",
       "      <td>True</td>\n",
       "    </tr>\n",
       "    <tr>\n",
       "      <th>4464</th>\n",
       "      <td>Mammal</td>\n",
       "      <td>Lasiurus blossevillii</td>\n",
       "      <td>Western Red Bat</td>\n",
       "      <td>Species of Concern</td>\n",
       "      <td>True</td>\n",
       "      <td>True</td>\n",
       "    </tr>\n",
       "    <tr>\n",
       "      <th>4468</th>\n",
       "      <td>Mammal</td>\n",
       "      <td>Parastrellus hesperus</td>\n",
       "      <td>Canyon Bat</td>\n",
       "      <td>Not Endangered</td>\n",
       "      <td>False</td>\n",
       "      <td>True</td>\n",
       "    </tr>\n",
       "  </tbody>\n",
       "</table>\n",
       "</div>"
      ],
      "text/plain": [
       "     category            scientific_name  \\\n",
       "28     Mammal   Corynorhinus rafinesquii   \n",
       "29     Mammal           Eptesicus fuscus   \n",
       "30     Mammal  Lasionycteris noctivagans   \n",
       "31     Mammal          Lasiurus borealis   \n",
       "32     Mammal          Lasiurus cinereus   \n",
       "36     Mammal              Myotis leibii   \n",
       "37     Mammal           Myotis lucifugus   \n",
       "38     Mammal     Myotis septentrionalis   \n",
       "39     Mammal             Myotis sodalis   \n",
       "40     Mammal       Nycticeius humeralis   \n",
       "3033   Mammal         Antrozous pallidus   \n",
       "3034   Mammal    Corynorhinus townsendii   \n",
       "3035   Mammal           Eptesicus fuscus   \n",
       "3036   Mammal          Euderma maculatum   \n",
       "3037   Mammal  Lasionycteris noctivagans   \n",
       "3038   Mammal          Lasiurus cinereus   \n",
       "3040   Mammal         Myotis ciliolabrum   \n",
       "3042   Mammal           Myotis lucifugus   \n",
       "4461   Mammal             Eumops perotis   \n",
       "4462   Mammal      Tadarida brasiliensis   \n",
       "4463   Mammal    Corynorhinus townsendii   \n",
       "4464   Mammal      Lasiurus blossevillii   \n",
       "4468   Mammal      Parastrellus hesperus   \n",
       "\n",
       "                                           common_names conservation_status  \\\n",
       "28                           Rafinesque's Big-Eared Bat      Not Endangered   \n",
       "29                                        Big Brown Bat  Species of Concern   \n",
       "30                                    Silver-Haired Bat  Species of Concern   \n",
       "31                             Eastern Red Bat, Red Bat      Not Endangered   \n",
       "32                                            Hoary Bat      Not Endangered   \n",
       "36    Eastern Small-Footed Bat, Eastern Small-Footed...  Species of Concern   \n",
       "37                Little Brown Bat, Little Brown Myotis  Species of Concern   \n",
       "38             Northern Long-Eared Bat, Northern Myotis          Threatened   \n",
       "39                Indiana Bat, Indiana Or Social Myotis          Endangered   \n",
       "40                                          Evening Bat      Not Endangered   \n",
       "3033                             Pallid Bat, Pallid Bat  Species of Concern   \n",
       "3034  Mule-Eared Bat, Pacific Townsend's Big-Eared B...      Not Endangered   \n",
       "3035                       Big Brown Bat, Big Brown Bat  Species of Concern   \n",
       "3036                           Spotted Bat, Spotted Bat  Species of Concern   \n",
       "3037               Silver-Haired Bat, Silver-Haired Bat  Species of Concern   \n",
       "3038                               Hoary Bat, Hoary Bat      Not Endangered   \n",
       "3040  Small-Footed Myotis, Western Small-Footed Bat,...      Not Endangered   \n",
       "3042  Little Brown Bat, Little Brown Myotis, Little ...  Species of Concern   \n",
       "4461                                Western Mastiff Bat      Not Endangered   \n",
       "4462                            Mexican Free-Tailed Bat      Not Endangered   \n",
       "4463                           Townsend's Big-Eared Bat      Not Endangered   \n",
       "4464                                    Western Red Bat  Species of Concern   \n",
       "4468                                         Canyon Bat      Not Endangered   \n",
       "\n",
       "      is_protected  is_bat  \n",
       "28           False    True  \n",
       "29            True    True  \n",
       "30            True    True  \n",
       "31           False    True  \n",
       "32           False    True  \n",
       "36            True    True  \n",
       "37            True    True  \n",
       "38            True    True  \n",
       "39            True    True  \n",
       "40           False    True  \n",
       "3033          True    True  \n",
       "3034         False    True  \n",
       "3035          True    True  \n",
       "3036          True    True  \n",
       "3037          True    True  \n",
       "3038         False    True  \n",
       "3040         False    True  \n",
       "3042          True    True  \n",
       "4461         False    True  \n",
       "4462         False    True  \n",
       "4463         False    True  \n",
       "4464          True    True  \n",
       "4468         False    True  "
      ]
     },
     "execution_count": 49,
     "metadata": {},
     "output_type": "execute_result"
    }
   ],
   "source": [
    "#Just print the species that are bats...\n",
    "species[species.is_bat]"
   ]
  },
  {
   "cell_type": "code",
   "execution_count": 50,
   "id": "112dda84",
   "metadata": {},
   "outputs": [],
   "source": [
    "#create a dataframe with bat species"
   ]
  },
  {
   "cell_type": "code",
   "execution_count": 51,
   "id": "b2bb13af",
   "metadata": {},
   "outputs": [
    {
     "data": {
      "text/html": [
       "<div>\n",
       "<style scoped>\n",
       "    .dataframe tbody tr th:only-of-type {\n",
       "        vertical-align: middle;\n",
       "    }\n",
       "\n",
       "    .dataframe tbody tr th {\n",
       "        vertical-align: top;\n",
       "    }\n",
       "\n",
       "    .dataframe thead th {\n",
       "        text-align: right;\n",
       "    }\n",
       "</style>\n",
       "<table border=\"1\" class=\"dataframe\">\n",
       "  <thead>\n",
       "    <tr style=\"text-align: right;\">\n",
       "      <th></th>\n",
       "      <th>scientific_name</th>\n",
       "      <th>park_name</th>\n",
       "      <th>observations</th>\n",
       "      <th>category</th>\n",
       "      <th>common_names</th>\n",
       "      <th>conservation_status</th>\n",
       "      <th>is_protected</th>\n",
       "      <th>is_bat</th>\n",
       "    </tr>\n",
       "  </thead>\n",
       "  <tbody>\n",
       "    <tr>\n",
       "      <th>0</th>\n",
       "      <td>Lasiurus blossevillii</td>\n",
       "      <td>Bryce National Park</td>\n",
       "      <td>113</td>\n",
       "      <td>Mammal</td>\n",
       "      <td>Western Red Bat</td>\n",
       "      <td>Species of Concern</td>\n",
       "      <td>True</td>\n",
       "      <td>True</td>\n",
       "    </tr>\n",
       "    <tr>\n",
       "      <th>1</th>\n",
       "      <td>Lasiurus blossevillii</td>\n",
       "      <td>Great Smoky Mountains National Park</td>\n",
       "      <td>70</td>\n",
       "      <td>Mammal</td>\n",
       "      <td>Western Red Bat</td>\n",
       "      <td>Species of Concern</td>\n",
       "      <td>True</td>\n",
       "      <td>True</td>\n",
       "    </tr>\n",
       "    <tr>\n",
       "      <th>2</th>\n",
       "      <td>Lasiurus blossevillii</td>\n",
       "      <td>Yosemite National Park</td>\n",
       "      <td>123</td>\n",
       "      <td>Mammal</td>\n",
       "      <td>Western Red Bat</td>\n",
       "      <td>Species of Concern</td>\n",
       "      <td>True</td>\n",
       "      <td>True</td>\n",
       "    </tr>\n",
       "    <tr>\n",
       "      <th>3</th>\n",
       "      <td>Lasiurus blossevillii</td>\n",
       "      <td>Yellowstone National Park</td>\n",
       "      <td>221</td>\n",
       "      <td>Mammal</td>\n",
       "      <td>Western Red Bat</td>\n",
       "      <td>Species of Concern</td>\n",
       "      <td>True</td>\n",
       "      <td>True</td>\n",
       "    </tr>\n",
       "    <tr>\n",
       "      <th>4</th>\n",
       "      <td>Corynorhinus rafinesquii</td>\n",
       "      <td>Yosemite National Park</td>\n",
       "      <td>188</td>\n",
       "      <td>Mammal</td>\n",
       "      <td>Rafinesque's Big-Eared Bat</td>\n",
       "      <td>Not Endangered</td>\n",
       "      <td>False</td>\n",
       "      <td>True</td>\n",
       "    </tr>\n",
       "    <tr>\n",
       "      <th>...</th>\n",
       "      <td>...</td>\n",
       "      <td>...</td>\n",
       "      <td>...</td>\n",
       "      <td>...</td>\n",
       "      <td>...</td>\n",
       "      <td>...</td>\n",
       "      <td>...</td>\n",
       "      <td>...</td>\n",
       "    </tr>\n",
       "    <tr>\n",
       "      <th>139</th>\n",
       "      <td>Myotis sodalis</td>\n",
       "      <td>Yellowstone National Park</td>\n",
       "      <td>68</td>\n",
       "      <td>Mammal</td>\n",
       "      <td>Indiana Bat, Indiana Or Social Myotis</td>\n",
       "      <td>Endangered</td>\n",
       "      <td>True</td>\n",
       "      <td>True</td>\n",
       "    </tr>\n",
       "    <tr>\n",
       "      <th>140</th>\n",
       "      <td>Myotis leibii</td>\n",
       "      <td>Yosemite National Park</td>\n",
       "      <td>132</td>\n",
       "      <td>Mammal</td>\n",
       "      <td>Eastern Small-Footed Bat, Eastern Small-Footed...</td>\n",
       "      <td>Species of Concern</td>\n",
       "      <td>True</td>\n",
       "      <td>True</td>\n",
       "    </tr>\n",
       "    <tr>\n",
       "      <th>141</th>\n",
       "      <td>Myotis leibii</td>\n",
       "      <td>Bryce National Park</td>\n",
       "      <td>84</td>\n",
       "      <td>Mammal</td>\n",
       "      <td>Eastern Small-Footed Bat, Eastern Small-Footed...</td>\n",
       "      <td>Species of Concern</td>\n",
       "      <td>True</td>\n",
       "      <td>True</td>\n",
       "    </tr>\n",
       "    <tr>\n",
       "      <th>142</th>\n",
       "      <td>Myotis leibii</td>\n",
       "      <td>Great Smoky Mountains National Park</td>\n",
       "      <td>49</td>\n",
       "      <td>Mammal</td>\n",
       "      <td>Eastern Small-Footed Bat, Eastern Small-Footed...</td>\n",
       "      <td>Species of Concern</td>\n",
       "      <td>True</td>\n",
       "      <td>True</td>\n",
       "    </tr>\n",
       "    <tr>\n",
       "      <th>143</th>\n",
       "      <td>Myotis leibii</td>\n",
       "      <td>Yellowstone National Park</td>\n",
       "      <td>233</td>\n",
       "      <td>Mammal</td>\n",
       "      <td>Eastern Small-Footed Bat, Eastern Small-Footed...</td>\n",
       "      <td>Species of Concern</td>\n",
       "      <td>True</td>\n",
       "      <td>True</td>\n",
       "    </tr>\n",
       "  </tbody>\n",
       "</table>\n",
       "<p>144 rows × 8 columns</p>\n",
       "</div>"
      ],
      "text/plain": [
       "              scientific_name                            park_name  \\\n",
       "0       Lasiurus blossevillii                  Bryce National Park   \n",
       "1       Lasiurus blossevillii  Great Smoky Mountains National Park   \n",
       "2       Lasiurus blossevillii               Yosemite National Park   \n",
       "3       Lasiurus blossevillii            Yellowstone National Park   \n",
       "4    Corynorhinus rafinesquii               Yosemite National Park   \n",
       "..                        ...                                  ...   \n",
       "139            Myotis sodalis            Yellowstone National Park   \n",
       "140             Myotis leibii               Yosemite National Park   \n",
       "141             Myotis leibii                  Bryce National Park   \n",
       "142             Myotis leibii  Great Smoky Mountains National Park   \n",
       "143             Myotis leibii            Yellowstone National Park   \n",
       "\n",
       "     observations category                                       common_names  \\\n",
       "0             113   Mammal                                    Western Red Bat   \n",
       "1              70   Mammal                                    Western Red Bat   \n",
       "2             123   Mammal                                    Western Red Bat   \n",
       "3             221   Mammal                                    Western Red Bat   \n",
       "4             188   Mammal                         Rafinesque's Big-Eared Bat   \n",
       "..            ...      ...                                                ...   \n",
       "139            68   Mammal              Indiana Bat, Indiana Or Social Myotis   \n",
       "140           132   Mammal  Eastern Small-Footed Bat, Eastern Small-Footed...   \n",
       "141            84   Mammal  Eastern Small-Footed Bat, Eastern Small-Footed...   \n",
       "142            49   Mammal  Eastern Small-Footed Bat, Eastern Small-Footed...   \n",
       "143           233   Mammal  Eastern Small-Footed Bat, Eastern Small-Footed...   \n",
       "\n",
       "    conservation_status  is_protected  is_bat  \n",
       "0    Species of Concern          True    True  \n",
       "1    Species of Concern          True    True  \n",
       "2    Species of Concern          True    True  \n",
       "3    Species of Concern          True    True  \n",
       "4        Not Endangered         False    True  \n",
       "..                  ...           ...     ...  \n",
       "139          Endangered          True    True  \n",
       "140  Species of Concern          True    True  \n",
       "141  Species of Concern          True    True  \n",
       "142  Species of Concern          True    True  \n",
       "143  Species of Concern          True    True  \n",
       "\n",
       "[144 rows x 8 columns]"
      ]
     },
     "execution_count": 51,
     "metadata": {},
     "output_type": "execute_result"
    }
   ],
   "source": [
    "bat_observations = observations.merge(species[species.is_bat])\n",
    "bat_observations"
   ]
  },
  {
   "cell_type": "markdown",
   "id": "a4bf9482",
   "metadata": {},
   "source": [
    "## How many bats were counted at each National park ? ##"
   ]
  },
  {
   "cell_type": "code",
   "execution_count": 52,
   "id": "eb9d5c1d",
   "metadata": {},
   "outputs": [
    {
     "data": {
      "text/html": [
       "<div>\n",
       "<style scoped>\n",
       "    .dataframe tbody tr th:only-of-type {\n",
       "        vertical-align: middle;\n",
       "    }\n",
       "\n",
       "    .dataframe tbody tr th {\n",
       "        vertical-align: top;\n",
       "    }\n",
       "\n",
       "    .dataframe thead th {\n",
       "        text-align: right;\n",
       "    }\n",
       "</style>\n",
       "<table border=\"1\" class=\"dataframe\">\n",
       "  <thead>\n",
       "    <tr style=\"text-align: right;\">\n",
       "      <th></th>\n",
       "      <th>park_name</th>\n",
       "      <th>observations</th>\n",
       "    </tr>\n",
       "  </thead>\n",
       "  <tbody>\n",
       "    <tr>\n",
       "      <th>0</th>\n",
       "      <td>Bryce National Park</td>\n",
       "      <td>3433</td>\n",
       "    </tr>\n",
       "    <tr>\n",
       "      <th>1</th>\n",
       "      <td>Great Smoky Mountains National Park</td>\n",
       "      <td>2411</td>\n",
       "    </tr>\n",
       "    <tr>\n",
       "      <th>2</th>\n",
       "      <td>Yellowstone National Park</td>\n",
       "      <td>8362</td>\n",
       "    </tr>\n",
       "    <tr>\n",
       "      <th>3</th>\n",
       "      <td>Yosemite National Park</td>\n",
       "      <td>4786</td>\n",
       "    </tr>\n",
       "  </tbody>\n",
       "</table>\n",
       "</div>"
      ],
      "text/plain": [
       "                             park_name  observations\n",
       "0                  Bryce National Park          3433\n",
       "1  Great Smoky Mountains National Park          2411\n",
       "2            Yellowstone National Park          8362\n",
       "3               Yosemite National Park          4786"
      ]
     },
     "execution_count": 52,
     "metadata": {},
     "output_type": "execute_result"
    }
   ],
   "source": [
    "bat_observations.groupby('park_name').observations.sum().reset_index()"
   ]
  },
  {
   "cell_type": "code",
   "execution_count": 53,
   "id": "ddb6fe19",
   "metadata": {},
   "outputs": [
    {
     "name": "stdout",
     "output_type": "stream",
     "text": [
      "There are 18992 bats observed in these parks each week.\n"
     ]
    }
   ],
   "source": [
    "print(\"There are \" + str(sum(bat_observations.observations)) + \" bats observed in these parks each week.\")"
   ]
  },
  {
   "cell_type": "markdown",
   "id": "b5b094c7",
   "metadata": {},
   "source": [
    "### There are 18, 992 bats observed in these parks each week. ###"
   ]
  },
  {
   "cell_type": "code",
   "execution_count": 54,
   "id": "6b15fe72",
   "metadata": {},
   "outputs": [
    {
     "data": {
      "text/html": [
       "<img src=\"bat_baby.jpeg\" width=\"300\" height=\"300\"/>"
      ],
      "text/plain": [
       "<IPython.core.display.Image object>"
      ]
     },
     "execution_count": 54,
     "metadata": {},
     "output_type": "execute_result"
    }
   ],
   "source": [
    "Image(url=\"bat_baby.jpeg\", width=300, height=300) "
   ]
  },
  {
   "cell_type": "markdown",
   "id": "d15bb2b8",
   "metadata": {},
   "source": [
    "## How many bats are protected vs unprotected, for each National Park? ##"
   ]
  },
  {
   "cell_type": "code",
   "execution_count": 55,
   "id": "a06bf600",
   "metadata": {
    "scrolled": true
   },
   "outputs": [
    {
     "name": "stderr",
     "output_type": "stream",
     "text": [
      "/var/folders/g4/hkwrz_hd06s7mxk8_15fr9jh0000gn/T/ipykernel_4971/3729024617.py:1: FutureWarning: The default value of numeric_only in DataFrameGroupBy.sum is deprecated. In a future version, numeric_only will default to False. Either specify numeric_only or select only columns which should be valid for the function.\n",
      "  obs_by_park = bat_observations.groupby(['park_name', 'is_protected']).sum().reset_index()\n"
     ]
    },
    {
     "data": {
      "text/html": [
       "<div>\n",
       "<style scoped>\n",
       "    .dataframe tbody tr th:only-of-type {\n",
       "        vertical-align: middle;\n",
       "    }\n",
       "\n",
       "    .dataframe tbody tr th {\n",
       "        vertical-align: top;\n",
       "    }\n",
       "\n",
       "    .dataframe thead th {\n",
       "        text-align: right;\n",
       "    }\n",
       "</style>\n",
       "<table border=\"1\" class=\"dataframe\">\n",
       "  <thead>\n",
       "    <tr style=\"text-align: right;\">\n",
       "      <th></th>\n",
       "      <th>park_name</th>\n",
       "      <th>is_protected</th>\n",
       "      <th>observations</th>\n",
       "      <th>is_bat</th>\n",
       "    </tr>\n",
       "  </thead>\n",
       "  <tbody>\n",
       "    <tr>\n",
       "      <th>0</th>\n",
       "      <td>Bryce National Park</td>\n",
       "      <td>False</td>\n",
       "      <td>1596</td>\n",
       "      <td>16</td>\n",
       "    </tr>\n",
       "    <tr>\n",
       "      <th>1</th>\n",
       "      <td>Bryce National Park</td>\n",
       "      <td>True</td>\n",
       "      <td>1837</td>\n",
       "      <td>20</td>\n",
       "    </tr>\n",
       "    <tr>\n",
       "      <th>2</th>\n",
       "      <td>Great Smoky Mountains National Park</td>\n",
       "      <td>False</td>\n",
       "      <td>1299</td>\n",
       "      <td>16</td>\n",
       "    </tr>\n",
       "    <tr>\n",
       "      <th>3</th>\n",
       "      <td>Great Smoky Mountains National Park</td>\n",
       "      <td>True</td>\n",
       "      <td>1112</td>\n",
       "      <td>20</td>\n",
       "    </tr>\n",
       "    <tr>\n",
       "      <th>4</th>\n",
       "      <td>Yellowstone National Park</td>\n",
       "      <td>False</td>\n",
       "      <td>4044</td>\n",
       "      <td>16</td>\n",
       "    </tr>\n",
       "    <tr>\n",
       "      <th>5</th>\n",
       "      <td>Yellowstone National Park</td>\n",
       "      <td>True</td>\n",
       "      <td>4318</td>\n",
       "      <td>20</td>\n",
       "    </tr>\n",
       "    <tr>\n",
       "      <th>6</th>\n",
       "      <td>Yosemite National Park</td>\n",
       "      <td>False</td>\n",
       "      <td>2345</td>\n",
       "      <td>16</td>\n",
       "    </tr>\n",
       "    <tr>\n",
       "      <th>7</th>\n",
       "      <td>Yosemite National Park</td>\n",
       "      <td>True</td>\n",
       "      <td>2441</td>\n",
       "      <td>20</td>\n",
       "    </tr>\n",
       "  </tbody>\n",
       "</table>\n",
       "</div>"
      ],
      "text/plain": [
       "                             park_name  is_protected  observations  is_bat\n",
       "0                  Bryce National Park         False          1596      16\n",
       "1                  Bryce National Park          True          1837      20\n",
       "2  Great Smoky Mountains National Park         False          1299      16\n",
       "3  Great Smoky Mountains National Park          True          1112      20\n",
       "4            Yellowstone National Park         False          4044      16\n",
       "5            Yellowstone National Park          True          4318      20\n",
       "6               Yosemite National Park         False          2345      16\n",
       "7               Yosemite National Park          True          2441      20"
      ]
     },
     "execution_count": 55,
     "metadata": {},
     "output_type": "execute_result"
    }
   ],
   "source": [
    "obs_by_park = bat_observations.groupby(['park_name', 'is_protected']).sum().reset_index()\n",
    "obs_by_park"
   ]
  },
  {
   "cell_type": "code",
   "execution_count": 56,
   "id": "b2772f8f",
   "metadata": {},
   "outputs": [
    {
     "name": "stderr",
     "output_type": "stream",
     "text": [
      "/var/folders/g4/hkwrz_hd06s7mxk8_15fr9jh0000gn/T/ipykernel_4971/1656926849.py:1: FutureWarning: The default value of numeric_only in DataFrameGroupBy.sum is deprecated. In a future version, numeric_only will default to False. Either specify numeric_only or select only columns which should be valid for the function.\n",
      "  obs_by_park_protect = bat_observations.groupby(['is_bat', 'is_protected']).sum().reset_index()\n"
     ]
    },
    {
     "data": {
      "text/html": [
       "<div>\n",
       "<style scoped>\n",
       "    .dataframe tbody tr th:only-of-type {\n",
       "        vertical-align: middle;\n",
       "    }\n",
       "\n",
       "    .dataframe tbody tr th {\n",
       "        vertical-align: top;\n",
       "    }\n",
       "\n",
       "    .dataframe thead th {\n",
       "        text-align: right;\n",
       "    }\n",
       "</style>\n",
       "<table border=\"1\" class=\"dataframe\">\n",
       "  <thead>\n",
       "    <tr style=\"text-align: right;\">\n",
       "      <th></th>\n",
       "      <th>is_bat</th>\n",
       "      <th>is_protected</th>\n",
       "      <th>observations</th>\n",
       "    </tr>\n",
       "  </thead>\n",
       "  <tbody>\n",
       "    <tr>\n",
       "      <th>0</th>\n",
       "      <td>True</td>\n",
       "      <td>False</td>\n",
       "      <td>9284</td>\n",
       "    </tr>\n",
       "    <tr>\n",
       "      <th>1</th>\n",
       "      <td>True</td>\n",
       "      <td>True</td>\n",
       "      <td>9708</td>\n",
       "    </tr>\n",
       "  </tbody>\n",
       "</table>\n",
       "</div>"
      ],
      "text/plain": [
       "   is_bat  is_protected  observations\n",
       "0    True         False          9284\n",
       "1    True          True          9708"
      ]
     },
     "execution_count": 56,
     "metadata": {},
     "output_type": "execute_result"
    }
   ],
   "source": [
    "obs_by_park_protect = bat_observations.groupby(['is_bat', 'is_protected']).sum().reset_index()\n",
    "obs_by_park_protect"
   ]
  },
  {
   "cell_type": "markdown",
   "id": "e2f862a8",
   "metadata": {},
   "source": [
    "### There are 9708 protected bats, out of the 18,992 that are observed each week. ###"
   ]
  },
  {
   "cell_type": "code",
   "execution_count": 57,
   "id": "37a4cd85",
   "metadata": {
    "scrolled": true
   },
   "outputs": [
    {
     "data": {
      "image/png": "[encoded data removed]",
      "text/plain": [
       "<Figure size 1600x400 with 1 Axes>"
      ]
     },
     "metadata": {},
     "output_type": "display_data"
    }
   ],
   "source": [
    "plt.figure(figsize=(16, 4))\n",
    "sns.barplot(x=obs_by_park.park_name, y= obs_by_park.observations, hue=obs_by_park.is_protected)\n",
    "plt.xlabel('National Parks')\n",
    "plt.ylabel('Number of Observations')\n",
    "plt.title('Observations of Bats per Week')\n",
    "plt.show()"
   ]
  },
  {
   "cell_type": "code",
   "execution_count": 58,
   "id": "88616bc2",
   "metadata": {},
   "outputs": [],
   "source": [
    "###  49% of the bats observed are in a protected status. ###"
   ]
  },
  {
   "cell_type": "markdown",
   "id": "3cade00e",
   "metadata": {},
   "source": [
    "### All parks have more protected bats than unprotected bats, except for Great Smoky Mountains National Park. ###"
   ]
  },
  {
   "cell_type": "code",
   "execution_count": 59,
   "id": "3c9d2157",
   "metadata": {},
   "outputs": [],
   "source": [
    "### Yellowstone National Park has the greatest amount of bats. ###"
   ]
  },
  {
   "cell_type": "markdown",
   "id": "602a556e",
   "metadata": {},
   "source": [
    "# Now lets look at Elk. #"
   ]
  },
  {
   "cell_type": "code",
   "execution_count": 60,
   "id": "9690f9ef",
   "metadata": {},
   "outputs": [
    {
     "data": {
      "text/html": [
       "<img src=\"elk_bull.jpeg\" width=\"300\" height=\"300\"/>"
      ],
      "text/plain": [
       "<IPython.core.display.Image object>"
      ]
     },
     "execution_count": 60,
     "metadata": {},
     "output_type": "execute_result"
    }
   ],
   "source": [
    "Image(url=\"elk_bull.jpeg\", width=300, height=300) "
   ]
  },
  {
   "cell_type": "markdown",
   "id": "330443b1",
   "metadata": {},
   "source": [
    "## How many elk are there in these National parks ? ##"
   ]
  },
  {
   "cell_type": "code",
   "execution_count": 61,
   "id": "64e50dda",
   "metadata": {},
   "outputs": [],
   "source": [
    "# create a dataframe with elk species."
   ]
  },
  {
   "cell_type": "code",
   "execution_count": 62,
   "id": "1dd8778d",
   "metadata": {},
   "outputs": [
    {
     "name": "stdout",
     "output_type": "stream",
     "text": [
      "There are 3 different elk species.\n"
     ]
    }
   ],
   "source": [
    "species['is_elk'] = (species.common_names.str.contains(\"Elk|elk\") & (species.category == \"Mammal\"))\n",
    "print(\"There are \" + str(sum(species.is_elk)) + \" different elk species.\")"
   ]
  },
  {
   "cell_type": "code",
   "execution_count": 63,
   "id": "f5db4386",
   "metadata": {},
   "outputs": [
    {
     "name": "stdout",
     "output_type": "stream",
     "text": [
      "   scientific_name                            park_name  observations  \\\n",
      "0      Alces alces               Yosemite National Park           161   \n",
      "1      Alces alces            Yellowstone National Park           197   \n",
      "2      Alces alces                  Bryce National Park           101   \n",
      "3      Alces alces  Great Smoky Mountains National Park            44   \n",
      "4   Cervus elaphus            Yellowstone National Park           225   \n",
      "5   Cervus elaphus            Yellowstone National Park           225   \n",
      "6   Cervus elaphus            Yellowstone National Park           270   \n",
      "7   Cervus elaphus            Yellowstone National Park           270   \n",
      "8   Cervus elaphus  Great Smoky Mountains National Park            60   \n",
      "9   Cervus elaphus  Great Smoky Mountains National Park            60   \n",
      "10  Cervus elaphus               Yosemite National Park           203   \n",
      "11  Cervus elaphus               Yosemite National Park           203   \n",
      "12  Cervus elaphus  Great Smoky Mountains National Park           101   \n",
      "13  Cervus elaphus  Great Smoky Mountains National Park           101   \n",
      "14  Cervus elaphus                  Bryce National Park            96   \n",
      "15  Cervus elaphus                  Bryce National Park            96   \n",
      "16  Cervus elaphus                  Bryce National Park            87   \n",
      "17  Cervus elaphus                  Bryce National Park            87   \n",
      "18  Cervus elaphus               Yosemite National Park           176   \n",
      "19  Cervus elaphus               Yosemite National Park           176   \n",
      "\n",
      "   category         common_names conservation_status  is_protected  is_bat  \\\n",
      "0    Mammal  Eurasian Elk, Moose      Not Endangered         False   False   \n",
      "1    Mammal  Eurasian Elk, Moose      Not Endangered         False   False   \n",
      "2    Mammal  Eurasian Elk, Moose      Not Endangered         False   False   \n",
      "3    Mammal  Eurasian Elk, Moose      Not Endangered         False   False   \n",
      "4    Mammal        Wapiti Or Elk      Not Endangered         False   False   \n",
      "5    Mammal   Rocky Mountain Elk      Not Endangered         False   False   \n",
      "6    Mammal        Wapiti Or Elk      Not Endangered         False   False   \n",
      "7    Mammal   Rocky Mountain Elk      Not Endangered         False   False   \n",
      "8    Mammal        Wapiti Or Elk      Not Endangered         False   False   \n",
      "9    Mammal   Rocky Mountain Elk      Not Endangered         False   False   \n",
      "10   Mammal        Wapiti Or Elk      Not Endangered         False   False   \n",
      "11   Mammal   Rocky Mountain Elk      Not Endangered         False   False   \n",
      "12   Mammal        Wapiti Or Elk      Not Endangered         False   False   \n",
      "13   Mammal   Rocky Mountain Elk      Not Endangered         False   False   \n",
      "14   Mammal        Wapiti Or Elk      Not Endangered         False   False   \n",
      "15   Mammal   Rocky Mountain Elk      Not Endangered         False   False   \n",
      "16   Mammal        Wapiti Or Elk      Not Endangered         False   False   \n",
      "17   Mammal   Rocky Mountain Elk      Not Endangered         False   False   \n",
      "18   Mammal        Wapiti Or Elk      Not Endangered         False   False   \n",
      "19   Mammal   Rocky Mountain Elk      Not Endangered         False   False   \n",
      "\n",
      "    is_elk  \n",
      "0     True  \n",
      "1     True  \n",
      "2     True  \n",
      "3     True  \n",
      "4     True  \n",
      "5     True  \n",
      "6     True  \n",
      "7     True  \n",
      "8     True  \n",
      "9     True  \n",
      "10    True  \n",
      "11    True  \n",
      "12    True  \n",
      "13    True  \n",
      "14    True  \n",
      "15    True  \n",
      "16    True  \n",
      "17    True  \n",
      "18    True  \n",
      "19    True  \n"
     ]
    }
   ],
   "source": [
    "elk_observations = observations.merge(species[species.is_elk])\n",
    "print(elk_observations.head(20))"
   ]
  },
  {
   "cell_type": "code",
   "execution_count": 64,
   "id": "18151319",
   "metadata": {},
   "outputs": [
    {
     "name": "stdout",
     "output_type": "stream",
     "text": [
      "                             park_name  observations\n",
      "0                  Bryce National Park           467\n",
      "1  Great Smoky Mountains National Park           366\n",
      "2            Yellowstone National Park          1187\n",
      "3               Yosemite National Park           919\n"
     ]
    }
   ],
   "source": [
    "elk_by_park = elk_observations.groupby('park_name').observations.sum().reset_index()\n",
    "print(elk_by_park)"
   ]
  },
  {
   "cell_type": "code",
   "execution_count": 65,
   "id": "b4bd6115",
   "metadata": {},
   "outputs": [
    {
     "name": "stdout",
     "output_type": "stream",
     "text": [
      "There are 2939 Elk observed each week at these 4 National Parks.\n"
     ]
    }
   ],
   "source": [
    "print(\"There are \" + str(sum(elk_observations.observations)) + \" Elk observed each week at these 4 National Parks.\")"
   ]
  },
  {
   "cell_type": "markdown",
   "id": "b41f6ea6",
   "metadata": {},
   "source": [
    "### There are 2939 Elk observed each week at these 4 National Parks. ###"
   ]
  },
  {
   "cell_type": "code",
   "execution_count": 66,
   "id": "9193c474",
   "metadata": {},
   "outputs": [
    {
     "data": {
      "text/html": [
       "<img src=\"elk_sunset.jpeg\" width=\"300\" height=\"300\"/>"
      ],
      "text/plain": [
       "<IPython.core.display.Image object>"
      ]
     },
     "execution_count": 66,
     "metadata": {},
     "output_type": "execute_result"
    }
   ],
   "source": [
    "Image(url=\"elk_sunset.jpeg\", width=300, height=300) "
   ]
  },
  {
   "cell_type": "code",
   "execution_count": 67,
   "id": "ce337a98",
   "metadata": {},
   "outputs": [
    {
     "data": {
      "image/png": "[encoded data removed]",
      "text/plain": [
       "<Figure size 1600x400 with 1 Axes>"
      ]
     },
     "metadata": {},
     "output_type": "display_data"
    }
   ],
   "source": [
    "plt.figure(figsize=(16, 4))\n",
    "sns.barplot(x=elk_by_park.park_name, y= elk_by_park.observations, hue=elk_by_park.observations)\n",
    "plt.xlabel('National Parks', size = 20)\n",
    "plt.ylabel('Number of Observations', size = 16)\n",
    "plt.title('Observations of Elk per Week', size = 26)\n",
    "plt.show()"
   ]
  },
  {
   "cell_type": "markdown",
   "id": "3935cd9a",
   "metadata": {},
   "source": [
    "## How many species of Elk are there? How many elk are endangered? ##"
   ]
  },
  {
   "cell_type": "code",
   "execution_count": 68,
   "id": "2e434a19",
   "metadata": {},
   "outputs": [
    {
     "data": {
      "text/html": [
       "<img src=\"elk_stuck_tire.jpeg\" width=\"300\" height=\"300\"/>"
      ],
      "text/plain": [
       "<IPython.core.display.Image object>"
      ]
     },
     "execution_count": 68,
     "metadata": {},
     "output_type": "execute_result"
    }
   ],
   "source": [
    "Image(url=\"elk_stuck_tire.jpeg\", width=300, height=300) "
   ]
  },
  {
   "cell_type": "code",
   "execution_count": 69,
   "id": "67b30b40",
   "metadata": {},
   "outputs": [
    {
     "name": "stderr",
     "output_type": "stream",
     "text": [
      "/var/folders/g4/hkwrz_hd06s7mxk8_15fr9jh0000gn/T/ipykernel_4971/1606367186.py:1: FutureWarning: The default value of numeric_only in DataFrameGroupBy.sum is deprecated. In a future version, numeric_only will default to False. Either specify numeric_only or select only columns which should be valid for the function.\n",
      "  elk_by_park_protect = elk_observations.groupby(['is_elk', 'is_protected']).sum().reset_index()\n"
     ]
    },
    {
     "data": {
      "text/plain": [
       "0    False\n",
       "Name: is_protected, dtype: bool"
      ]
     },
     "execution_count": 69,
     "metadata": {},
     "output_type": "execute_result"
    }
   ],
   "source": [
    "elk_by_park_protect = elk_observations.groupby(['is_elk', 'is_protected']).sum().reset_index()\n",
    "elk_by_park_protect.is_protected"
   ]
  },
  {
   "cell_type": "markdown",
   "id": "00fefec9",
   "metadata": {},
   "source": [
    "### There are no elk in a protected status. ###"
   ]
  },
  {
   "cell_type": "code",
   "execution_count": 70,
   "id": "910466a9",
   "metadata": {},
   "outputs": [],
   "source": [
    "species['is_elk'] = (species.common_names.str.contains(r\"[eE]lk\")) & (species.category == \"Mammal\")"
   ]
  },
  {
   "cell_type": "code",
   "execution_count": 71,
   "id": "b8aa934f",
   "metadata": {},
   "outputs": [
    {
     "data": {
      "text/html": [
       "<div>\n",
       "<style scoped>\n",
       "    .dataframe tbody tr th:only-of-type {\n",
       "        vertical-align: middle;\n",
       "    }\n",
       "\n",
       "    .dataframe tbody tr th {\n",
       "        vertical-align: top;\n",
       "    }\n",
       "\n",
       "    .dataframe thead th {\n",
       "        text-align: right;\n",
       "    }\n",
       "</style>\n",
       "<table border=\"1\" class=\"dataframe\">\n",
       "  <thead>\n",
       "    <tr style=\"text-align: right;\">\n",
       "      <th></th>\n",
       "      <th>category</th>\n",
       "      <th>scientific_name</th>\n",
       "      <th>common_names</th>\n",
       "      <th>conservation_status</th>\n",
       "      <th>is_protected</th>\n",
       "      <th>is_bat</th>\n",
       "      <th>is_elk</th>\n",
       "    </tr>\n",
       "  </thead>\n",
       "  <tbody>\n",
       "    <tr>\n",
       "      <th>4</th>\n",
       "      <td>Mammal</td>\n",
       "      <td>Cervus elaphus</td>\n",
       "      <td>Wapiti Or Elk</td>\n",
       "      <td>Not Endangered</td>\n",
       "      <td>False</td>\n",
       "      <td>False</td>\n",
       "      <td>True</td>\n",
       "    </tr>\n",
       "    <tr>\n",
       "      <th>3015</th>\n",
       "      <td>Mammal</td>\n",
       "      <td>Alces alces</td>\n",
       "      <td>Eurasian Elk, Moose</td>\n",
       "      <td>Not Endangered</td>\n",
       "      <td>False</td>\n",
       "      <td>False</td>\n",
       "      <td>True</td>\n",
       "    </tr>\n",
       "    <tr>\n",
       "      <th>3017</th>\n",
       "      <td>Mammal</td>\n",
       "      <td>Cervus elaphus</td>\n",
       "      <td>Rocky Mountain Elk</td>\n",
       "      <td>Not Endangered</td>\n",
       "      <td>False</td>\n",
       "      <td>False</td>\n",
       "      <td>True</td>\n",
       "    </tr>\n",
       "  </tbody>\n",
       "</table>\n",
       "</div>"
      ],
      "text/plain": [
       "     category scientific_name         common_names conservation_status  \\\n",
       "4      Mammal  Cervus elaphus        Wapiti Or Elk      Not Endangered   \n",
       "3015   Mammal     Alces alces  Eurasian Elk, Moose      Not Endangered   \n",
       "3017   Mammal  Cervus elaphus   Rocky Mountain Elk      Not Endangered   \n",
       "\n",
       "      is_protected  is_bat  is_elk  \n",
       "4            False   False    True  \n",
       "3015         False   False    True  \n",
       "3017         False   False    True  "
      ]
     },
     "execution_count": 71,
     "metadata": {},
     "output_type": "execute_result"
    }
   ],
   "source": [
    "species[species.is_elk]"
   ]
  },
  {
   "cell_type": "code",
   "execution_count": 72,
   "id": "31efce3c",
   "metadata": {},
   "outputs": [
    {
     "data": {
      "text/plain": [
       "False    5821\n",
       "True        3\n",
       "Name: is_elk, dtype: int64"
      ]
     },
     "execution_count": 72,
     "metadata": {},
     "output_type": "execute_result"
    }
   ],
   "source": [
    "species['is_elk'].value_counts()"
   ]
  },
  {
   "cell_type": "markdown",
   "id": "a98ff041",
   "metadata": {},
   "source": [
    "### There are only 3 elk species in the National Parks, and none of them are endangered. ###"
   ]
  },
  {
   "cell_type": "code",
   "execution_count": 91,
   "id": "cbf2e9eb",
   "metadata": {},
   "outputs": [
    {
     "data": {
      "text/html": [
       "<img src=\"elk_serious.jpeg\" width=\"300\" height=\"300\"/>"
      ],
      "text/plain": [
       "<IPython.core.display.Image object>"
      ]
     },
     "execution_count": 91,
     "metadata": {},
     "output_type": "execute_result"
    }
   ],
   "source": [
    "Image(url=\"elk_serious.jpeg\", width=300, height=300) "
   ]
  },
  {
   "cell_type": "code",
   "execution_count": 89,
   "id": "1e22a829",
   "metadata": {
    "scrolled": false
   },
   "outputs": [
    {
     "data": {
      "text/html": [
       "<div>\n",
       "<style scoped>\n",
       "    .dataframe tbody tr th:only-of-type {\n",
       "        vertical-align: middle;\n",
       "    }\n",
       "\n",
       "    .dataframe tbody tr th {\n",
       "        vertical-align: top;\n",
       "    }\n",
       "\n",
       "    .dataframe thead th {\n",
       "        text-align: right;\n",
       "    }\n",
       "</style>\n",
       "<table border=\"1\" class=\"dataframe\">\n",
       "  <thead>\n",
       "    <tr style=\"text-align: right;\">\n",
       "      <th></th>\n",
       "      <th>scientific_name</th>\n",
       "      <th>park_name</th>\n",
       "      <th>observations</th>\n",
       "      <th>category</th>\n",
       "      <th>common_names</th>\n",
       "      <th>conservation_status</th>\n",
       "      <th>is_protected</th>\n",
       "      <th>is_bat</th>\n",
       "      <th>is_elk</th>\n",
       "    </tr>\n",
       "  </thead>\n",
       "  <tbody>\n",
       "    <tr>\n",
       "      <th>0</th>\n",
       "      <td>Alces alces</td>\n",
       "      <td>Yosemite National Park</td>\n",
       "      <td>161</td>\n",
       "      <td>Mammal</td>\n",
       "      <td>Eurasian Elk, Moose</td>\n",
       "      <td>Not Endangered</td>\n",
       "      <td>False</td>\n",
       "      <td>False</td>\n",
       "      <td>True</td>\n",
       "    </tr>\n",
       "    <tr>\n",
       "      <th>1</th>\n",
       "      <td>Alces alces</td>\n",
       "      <td>Yellowstone National Park</td>\n",
       "      <td>197</td>\n",
       "      <td>Mammal</td>\n",
       "      <td>Eurasian Elk, Moose</td>\n",
       "      <td>Not Endangered</td>\n",
       "      <td>False</td>\n",
       "      <td>False</td>\n",
       "      <td>True</td>\n",
       "    </tr>\n",
       "    <tr>\n",
       "      <th>2</th>\n",
       "      <td>Alces alces</td>\n",
       "      <td>Bryce National Park</td>\n",
       "      <td>101</td>\n",
       "      <td>Mammal</td>\n",
       "      <td>Eurasian Elk, Moose</td>\n",
       "      <td>Not Endangered</td>\n",
       "      <td>False</td>\n",
       "      <td>False</td>\n",
       "      <td>True</td>\n",
       "    </tr>\n",
       "    <tr>\n",
       "      <th>3</th>\n",
       "      <td>Alces alces</td>\n",
       "      <td>Great Smoky Mountains National Park</td>\n",
       "      <td>44</td>\n",
       "      <td>Mammal</td>\n",
       "      <td>Eurasian Elk, Moose</td>\n",
       "      <td>Not Endangered</td>\n",
       "      <td>False</td>\n",
       "      <td>False</td>\n",
       "      <td>True</td>\n",
       "    </tr>\n",
       "    <tr>\n",
       "      <th>4</th>\n",
       "      <td>Cervus elaphus</td>\n",
       "      <td>Yellowstone National Park</td>\n",
       "      <td>225</td>\n",
       "      <td>Mammal</td>\n",
       "      <td>Wapiti Or Elk</td>\n",
       "      <td>Not Endangered</td>\n",
       "      <td>False</td>\n",
       "      <td>False</td>\n",
       "      <td>True</td>\n",
       "    </tr>\n",
       "    <tr>\n",
       "      <th>5</th>\n",
       "      <td>Cervus elaphus</td>\n",
       "      <td>Yellowstone National Park</td>\n",
       "      <td>225</td>\n",
       "      <td>Mammal</td>\n",
       "      <td>Rocky Mountain Elk</td>\n",
       "      <td>Not Endangered</td>\n",
       "      <td>False</td>\n",
       "      <td>False</td>\n",
       "      <td>True</td>\n",
       "    </tr>\n",
       "    <tr>\n",
       "      <th>6</th>\n",
       "      <td>Cervus elaphus</td>\n",
       "      <td>Yellowstone National Park</td>\n",
       "      <td>270</td>\n",
       "      <td>Mammal</td>\n",
       "      <td>Wapiti Or Elk</td>\n",
       "      <td>Not Endangered</td>\n",
       "      <td>False</td>\n",
       "      <td>False</td>\n",
       "      <td>True</td>\n",
       "    </tr>\n",
       "    <tr>\n",
       "      <th>7</th>\n",
       "      <td>Cervus elaphus</td>\n",
       "      <td>Yellowstone National Park</td>\n",
       "      <td>270</td>\n",
       "      <td>Mammal</td>\n",
       "      <td>Rocky Mountain Elk</td>\n",
       "      <td>Not Endangered</td>\n",
       "      <td>False</td>\n",
       "      <td>False</td>\n",
       "      <td>True</td>\n",
       "    </tr>\n",
       "    <tr>\n",
       "      <th>8</th>\n",
       "      <td>Cervus elaphus</td>\n",
       "      <td>Great Smoky Mountains National Park</td>\n",
       "      <td>60</td>\n",
       "      <td>Mammal</td>\n",
       "      <td>Wapiti Or Elk</td>\n",
       "      <td>Not Endangered</td>\n",
       "      <td>False</td>\n",
       "      <td>False</td>\n",
       "      <td>True</td>\n",
       "    </tr>\n",
       "    <tr>\n",
       "      <th>9</th>\n",
       "      <td>Cervus elaphus</td>\n",
       "      <td>Great Smoky Mountains National Park</td>\n",
       "      <td>60</td>\n",
       "      <td>Mammal</td>\n",
       "      <td>Rocky Mountain Elk</td>\n",
       "      <td>Not Endangered</td>\n",
       "      <td>False</td>\n",
       "      <td>False</td>\n",
       "      <td>True</td>\n",
       "    </tr>\n",
       "    <tr>\n",
       "      <th>10</th>\n",
       "      <td>Cervus elaphus</td>\n",
       "      <td>Yosemite National Park</td>\n",
       "      <td>203</td>\n",
       "      <td>Mammal</td>\n",
       "      <td>Wapiti Or Elk</td>\n",
       "      <td>Not Endangered</td>\n",
       "      <td>False</td>\n",
       "      <td>False</td>\n",
       "      <td>True</td>\n",
       "    </tr>\n",
       "    <tr>\n",
       "      <th>11</th>\n",
       "      <td>Cervus elaphus</td>\n",
       "      <td>Yosemite National Park</td>\n",
       "      <td>203</td>\n",
       "      <td>Mammal</td>\n",
       "      <td>Rocky Mountain Elk</td>\n",
       "      <td>Not Endangered</td>\n",
       "      <td>False</td>\n",
       "      <td>False</td>\n",
       "      <td>True</td>\n",
       "    </tr>\n",
       "    <tr>\n",
       "      <th>12</th>\n",
       "      <td>Cervus elaphus</td>\n",
       "      <td>Great Smoky Mountains National Park</td>\n",
       "      <td>101</td>\n",
       "      <td>Mammal</td>\n",
       "      <td>Wapiti Or Elk</td>\n",
       "      <td>Not Endangered</td>\n",
       "      <td>False</td>\n",
       "      <td>False</td>\n",
       "      <td>True</td>\n",
       "    </tr>\n",
       "    <tr>\n",
       "      <th>13</th>\n",
       "      <td>Cervus elaphus</td>\n",
       "      <td>Great Smoky Mountains National Park</td>\n",
       "      <td>101</td>\n",
       "      <td>Mammal</td>\n",
       "      <td>Rocky Mountain Elk</td>\n",
       "      <td>Not Endangered</td>\n",
       "      <td>False</td>\n",
       "      <td>False</td>\n",
       "      <td>True</td>\n",
       "    </tr>\n",
       "    <tr>\n",
       "      <th>14</th>\n",
       "      <td>Cervus elaphus</td>\n",
       "      <td>Bryce National Park</td>\n",
       "      <td>96</td>\n",
       "      <td>Mammal</td>\n",
       "      <td>Wapiti Or Elk</td>\n",
       "      <td>Not Endangered</td>\n",
       "      <td>False</td>\n",
       "      <td>False</td>\n",
       "      <td>True</td>\n",
       "    </tr>\n",
       "    <tr>\n",
       "      <th>15</th>\n",
       "      <td>Cervus elaphus</td>\n",
       "      <td>Bryce National Park</td>\n",
       "      <td>96</td>\n",
       "      <td>Mammal</td>\n",
       "      <td>Rocky Mountain Elk</td>\n",
       "      <td>Not Endangered</td>\n",
       "      <td>False</td>\n",
       "      <td>False</td>\n",
       "      <td>True</td>\n",
       "    </tr>\n",
       "    <tr>\n",
       "      <th>16</th>\n",
       "      <td>Cervus elaphus</td>\n",
       "      <td>Bryce National Park</td>\n",
       "      <td>87</td>\n",
       "      <td>Mammal</td>\n",
       "      <td>Wapiti Or Elk</td>\n",
       "      <td>Not Endangered</td>\n",
       "      <td>False</td>\n",
       "      <td>False</td>\n",
       "      <td>True</td>\n",
       "    </tr>\n",
       "    <tr>\n",
       "      <th>17</th>\n",
       "      <td>Cervus elaphus</td>\n",
       "      <td>Bryce National Park</td>\n",
       "      <td>87</td>\n",
       "      <td>Mammal</td>\n",
       "      <td>Rocky Mountain Elk</td>\n",
       "      <td>Not Endangered</td>\n",
       "      <td>False</td>\n",
       "      <td>False</td>\n",
       "      <td>True</td>\n",
       "    </tr>\n",
       "    <tr>\n",
       "      <th>18</th>\n",
       "      <td>Cervus elaphus</td>\n",
       "      <td>Yosemite National Park</td>\n",
       "      <td>176</td>\n",
       "      <td>Mammal</td>\n",
       "      <td>Wapiti Or Elk</td>\n",
       "      <td>Not Endangered</td>\n",
       "      <td>False</td>\n",
       "      <td>False</td>\n",
       "      <td>True</td>\n",
       "    </tr>\n",
       "    <tr>\n",
       "      <th>19</th>\n",
       "      <td>Cervus elaphus</td>\n",
       "      <td>Yosemite National Park</td>\n",
       "      <td>176</td>\n",
       "      <td>Mammal</td>\n",
       "      <td>Rocky Mountain Elk</td>\n",
       "      <td>Not Endangered</td>\n",
       "      <td>False</td>\n",
       "      <td>False</td>\n",
       "      <td>True</td>\n",
       "    </tr>\n",
       "  </tbody>\n",
       "</table>\n",
       "</div>"
      ],
      "text/plain": [
       "   scientific_name                            park_name  observations  \\\n",
       "0      Alces alces               Yosemite National Park           161   \n",
       "1      Alces alces            Yellowstone National Park           197   \n",
       "2      Alces alces                  Bryce National Park           101   \n",
       "3      Alces alces  Great Smoky Mountains National Park            44   \n",
       "4   Cervus elaphus            Yellowstone National Park           225   \n",
       "5   Cervus elaphus            Yellowstone National Park           225   \n",
       "6   Cervus elaphus            Yellowstone National Park           270   \n",
       "7   Cervus elaphus            Yellowstone National Park           270   \n",
       "8   Cervus elaphus  Great Smoky Mountains National Park            60   \n",
       "9   Cervus elaphus  Great Smoky Mountains National Park            60   \n",
       "10  Cervus elaphus               Yosemite National Park           203   \n",
       "11  Cervus elaphus               Yosemite National Park           203   \n",
       "12  Cervus elaphus  Great Smoky Mountains National Park           101   \n",
       "13  Cervus elaphus  Great Smoky Mountains National Park           101   \n",
       "14  Cervus elaphus                  Bryce National Park            96   \n",
       "15  Cervus elaphus                  Bryce National Park            96   \n",
       "16  Cervus elaphus                  Bryce National Park            87   \n",
       "17  Cervus elaphus                  Bryce National Park            87   \n",
       "18  Cervus elaphus               Yosemite National Park           176   \n",
       "19  Cervus elaphus               Yosemite National Park           176   \n",
       "\n",
       "   category         common_names conservation_status  is_protected  is_bat  \\\n",
       "0    Mammal  Eurasian Elk, Moose      Not Endangered         False   False   \n",
       "1    Mammal  Eurasian Elk, Moose      Not Endangered         False   False   \n",
       "2    Mammal  Eurasian Elk, Moose      Not Endangered         False   False   \n",
       "3    Mammal  Eurasian Elk, Moose      Not Endangered         False   False   \n",
       "4    Mammal        Wapiti Or Elk      Not Endangered         False   False   \n",
       "5    Mammal   Rocky Mountain Elk      Not Endangered         False   False   \n",
       "6    Mammal        Wapiti Or Elk      Not Endangered         False   False   \n",
       "7    Mammal   Rocky Mountain Elk      Not Endangered         False   False   \n",
       "8    Mammal        Wapiti Or Elk      Not Endangered         False   False   \n",
       "9    Mammal   Rocky Mountain Elk      Not Endangered         False   False   \n",
       "10   Mammal        Wapiti Or Elk      Not Endangered         False   False   \n",
       "11   Mammal   Rocky Mountain Elk      Not Endangered         False   False   \n",
       "12   Mammal        Wapiti Or Elk      Not Endangered         False   False   \n",
       "13   Mammal   Rocky Mountain Elk      Not Endangered         False   False   \n",
       "14   Mammal        Wapiti Or Elk      Not Endangered         False   False   \n",
       "15   Mammal   Rocky Mountain Elk      Not Endangered         False   False   \n",
       "16   Mammal        Wapiti Or Elk      Not Endangered         False   False   \n",
       "17   Mammal   Rocky Mountain Elk      Not Endangered         False   False   \n",
       "18   Mammal        Wapiti Or Elk      Not Endangered         False   False   \n",
       "19   Mammal   Rocky Mountain Elk      Not Endangered         False   False   \n",
       "\n",
       "    is_elk  \n",
       "0     True  \n",
       "1     True  \n",
       "2     True  \n",
       "3     True  \n",
       "4     True  \n",
       "5     True  \n",
       "6     True  \n",
       "7     True  \n",
       "8     True  \n",
       "9     True  \n",
       "10    True  \n",
       "11    True  \n",
       "12    True  \n",
       "13    True  \n",
       "14    True  \n",
       "15    True  \n",
       "16    True  \n",
       "17    True  \n",
       "18    True  \n",
       "19    True  "
      ]
     },
     "execution_count": 89,
     "metadata": {},
     "output_type": "execute_result"
    }
   ],
   "source": [
    "elk_observed = observations.merge(species[species.is_elk])\n",
    "elk_observed"
   ]
  },
  {
   "cell_type": "code",
   "execution_count": 83,
   "id": "9be62b25",
   "metadata": {},
   "outputs": [
    {
     "name": "stdout",
     "output_type": "stream",
     "text": [
      "Number of Alces alces\n"
     ]
    }
   ],
   "source": [
    "print(\"Number of Alces alces\")"
   ]
  },
  {
   "cell_type": "code",
   "execution_count": 84,
   "id": "e5f2ec62",
   "metadata": {},
   "outputs": [
    {
     "name": "stdout",
     "output_type": "stream",
     "text": [
      "503\n"
     ]
    }
   ],
   "source": [
    "print(np.where(elk_observations['scientific_name']==\"Alces alces\", elk_observations['observations'],0).sum())"
   ]
  },
  {
   "cell_type": "code",
   "execution_count": 85,
   "id": "1365815d",
   "metadata": {},
   "outputs": [
    {
     "name": "stdout",
     "output_type": "stream",
     "text": [
      "Number of Cervus elephus\n"
     ]
    }
   ],
   "source": [
    "print(\"Number of Cervus elephus\")"
   ]
  },
  {
   "cell_type": "code",
   "execution_count": 87,
   "id": "f6f763ba",
   "metadata": {},
   "outputs": [
    {
     "name": "stdout",
     "output_type": "stream",
     "text": [
      "2436\n"
     ]
    }
   ],
   "source": [
    "print(np.where(elk_observations['scientific_name']==\"Cervus elaphus\", elk_observations['observations'],0).sum())"
   ]
  },
  {
   "cell_type": "markdown",
   "id": "350faaad",
   "metadata": {},
   "source": [
    "### There are 503 Alces alces elk species, and there are 2436 Cervus elaphus elk species observed in the parks. ###"
   ]
  },
  {
   "cell_type": "code",
   "execution_count": 93,
   "id": "7d06ec7e",
   "metadata": {},
   "outputs": [
    {
     "data": {
      "image/png": "[encoded data removed]",
      "text/plain": [
       "<Figure size 640x480 with 1 Axes>"
      ]
     },
     "metadata": {},
     "output_type": "display_data"
    }
   ],
   "source": [
    "#park_labels = ['Yellowstone', 'Bryce', 'Yosemite', 'Great Smoky Mountains']\n",
    "plt.figure()\n",
    "f = sns.barplot(data=elk_observed, y=\"observations\", x=\"park_name\", hue='scientific_name', palette=\"Paired\")\n",
    "plt.setp(f.get_xticklabels(), rotation=90)\n",
    "plt.title(\"Observations of Elk, by Species, \\nat 4 National Parks\", size = 22)\n",
    "plt.ylabel('Number of Observations', size = 16)\n",
    "plt.xlabel('National Parks', size = 18)\n",
    "plt.xticks(rotation=40, ha=\"right\")\n",
    "plt.show()"
   ]
  },
  {
   "cell_type": "markdown",
   "id": "c8df6f77",
   "metadata": {},
   "source": [
    "### Most elk are observed at Yellowstone and Yosemite National Parks (more than double of what is observed at Bryce and Great Smoky Mountains National Parks. ) ###"
   ]
  },
  {
   "cell_type": "markdown",
   "id": "ec0867db",
   "metadata": {},
   "source": [
    "# Conclusion #"
   ]
  },
  {
   "cell_type": "markdown",
   "id": "14ce260d",
   "metadata": {},
   "source": [
    "## The project was able to make several data visualizations and inferences about the various species in four of the National Parks that comprised this data set. ##\n",
    "\n",
    "\n",
    "## It answer these questions : ##\n",
    "\n",
    "\n",
    "## How many National Parks are there in this dataset? ##\n",
    "\n",
    "### There are 4 parks in the data set: ###\n",
    "- Bryce National Park\n",
    "- Great Smoky Mountains National Park\n",
    "- Yellowstone National Park\n",
    "- Yosemite National Park\n",
    "\n",
    "## How many species are there in this dataset? ##\n",
    "- 5541\n",
    "\n",
    "## What are the conservation statuses of each species, and how many of each species are in that conservation category? ##\n",
    "\n",
    "- Endangered              16\n",
    "- In Recovery              4\n",
    "- Not Endangered        5633\n",
    "- Species of Concern     161\n",
    "- Threatened              10\n",
    "\n",
    "### Of the species that have some level of protection, most of the species fall in to the \"Species of Concern\" ###\n",
    "### conservation category. This is the lowest level of protection. ###\n",
    "\n",
    "\n",
    "## What category of species is most protected? ##\n",
    "- The largest percentile of species that are protected are mammals, with a close 2nd being birds. \n",
    "\n",
    "## How many species are observed in each category each week? ##\n",
    "      \n",
    "- Amphibian              80\n",
    "- Bird                  521\n",
    "- Fish                  127\n",
    "- Mammal                214\n",
    "- Nonvascular Plant     333\n",
    "- Reptile                79\n",
    "- Vascular Plant       4470\n",
    "\n",
    "## How many of these species are endangered? ##\n",
    "- 191\n",
    "\n",
    "## Which category of species is most protected? ##\n",
    "\n",
    "- Mammals and Birds had the highest percentage of being in protection. \n",
    "    \n",
    "\n",
    "## How many bats were counted at each National Park each week? ##\n",
    "- 18,992\n",
    "    \n",
    "## How many species of bats are there? ##\n",
    "- 23\n",
    "\n",
    "## How many bats are protected vs unprotected, for each National Park? ##\n",
    "- 9708 protected vs 9284 unprotected.\n",
    "- 51% are protected vs 49% unprotected.\n",
    "\n",
    "## How many Elk are observed each week at these parks? ##\n",
    "- 2939 in total\n",
    "\n",
    "## How many species of Elk are there? ##\n",
    "- 3\n",
    "\n",
    "## How many of these Elk are endangered? ##\n",
    "- 0\n",
    "\n",
    "\n",
    "\n"
   ]
  },
  {
   "cell_type": "markdown",
   "id": "d2d52a3d",
   "metadata": {},
   "source": []
  }
 ],
 "metadata": {
  "kernelspec": {
   "display_name": "Python 3 (ipykernel)",
   "language": "python",
   "name": "python3"
  },
  "language_info": {
   "codemirror_mode": {
    "name": "ipython",
    "version": 3
   },
   "file_extension": ".py",
   "mimetype": "text/x-python",
   "name": "python",
   "nbconvert_exporter": "python",
   "pygments_lexer": "ipython3",
   "version": "3.11.4"
  }
 },
 "nbformat": 4,
 "nbformat_minor": 5
}
